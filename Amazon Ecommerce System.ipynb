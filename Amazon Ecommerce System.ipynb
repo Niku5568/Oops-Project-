{
 "cells": [
  {
   "cell_type": "markdown",
   "id": "2ec812cc-1333-442e-9ca9-f23fbbc5f4a5",
   "metadata": {},
   "source": [
    "# Amazon E-commerce System\n",
    "\n",
    "\n",
    "In amazon E-commerce System i have created 3 major point to complete this project  \n",
    "\n",
    "1. First system are devloped for amazon to show all customer and seller details.\n",
    "    1. All Customer Details\n",
    "    2. All Placed Orders\n",
    "    3. All Registered Sellers\n",
    "    4. All Sellers Balance\n",
    "    5. Total Amazon Shoping Amount\n",
    "  \n",
    "2. Second system for Amazon sellers for selling thier product in amazon.\n",
    "    1. Seller Registration\n",
    "    2. Seller Loging\n",
    "        1. Add product\n",
    "        2. Update Stock\n",
    "        3. Change Selling price\n",
    "        4. Change MRP\n",
    "        5. View All inventory\n",
    "        6. Delete Products\n",
    "        7. Check Payment \n",
    "        8. Close Account\n",
    "        9. View Seller Profile\n",
    "        10. Change Password\n",
    "        11. Logout   \n",
    "    \n",
    "3. Third one is for customer for shopping product:\n",
    "\n",
    "    1. Customer Registration\n",
    "    2. Customer Login\n",
    "        1. Shopping\n",
    "        2. Order Details\n",
    "        3. Order Invoice\n",
    "        4. Cancel Order\n",
    "        5. View Customer Profile\n",
    "        6. Change Password\n",
    "        7. Delete Account\n",
    "        8. Logout\n"
   ]
  },
  {
   "cell_type": "code",
   "execution_count": 1,
   "id": "d93a207d-9bb3-4988-9923-f956dffd889d",
   "metadata": {},
   "outputs": [
    {
     "name": "stdout",
     "output_type": "stream",
     "text": [
      "welcome to amazon\n"
     ]
    },
    {
     "name": "stdin",
     "output_type": "stream",
     "text": [
      "\n",
      "            1. Admin\n",
      "            2. Seller\n",
      "            3. Customer\n",
      "            4. Exit\n",
      "             2\n",
      "\n",
      "            1. Seller Registration\n",
      "            2. Seller Login\n",
      "            3. Amazon Panel            \n",
      "             1\n",
      "Enter Your Store Name nishant\n",
      "Enter Your Name nishant\n",
      "Enter Your Contact Details 9654546020\n",
      "Enter Your Email ID nishant@gmail.com\n",
      "Enter Your Login Password 1111\n"
     ]
    },
    {
     "name": "stdout",
     "output_type": "stream",
     "text": [
      "congratulation.....!\n",
      "Your Amazon Seller Cetral Created ........... AMS5598\n",
      "\n",
      "\n",
      "Your Loging ID: AMS5598 \n",
      "Your Login Password: 1111\n"
     ]
    },
    {
     "name": "stdin",
     "output_type": "stream",
     "text": [
      "\n",
      "            1. Seller Registration\n",
      "            2. Seller Login\n",
      "            3. Amazon Panel            \n",
      "             2\n",
      "Enter Your Login ID AMS5598\n",
      "Enter Your Login Password 1111\n"
     ]
    },
    {
     "name": "stdout",
     "output_type": "stream",
     "text": [
      "nishant Welcome to Amazon Seller Central\n"
     ]
    },
    {
     "name": "stdin",
     "output_type": "stream",
     "text": [
      "\n",
      "            1. Add product\n",
      "            2. Update Stock\n",
      "            3. Change Selling price\n",
      "            4. Change MRP\n",
      "            5. View All inventory\n",
      "            6. Delete Products\n",
      "            7. Check Payment \n",
      "            8. Close Account\n",
      "            9. View Seller Profile\n",
      "            10. Change Password\n",
      "            11. Logout\n",
      "             1\n",
      "Enter Product Name toy\n",
      "Enter Product SP 199\n",
      "Enter Product MRP 499\n",
      "Enter Product Stock 10\n"
     ]
    },
    {
     "name": "stdout",
     "output_type": "stream",
     "text": [
      "\n",
      "Your Product live in Amazon Shopping.......\n",
      "toy Product ID: B0883420664\n"
     ]
    },
    {
     "name": "stdin",
     "output_type": "stream",
     "text": [
      "\n",
      "            1. Add product\n",
      "            2. Update Stock\n",
      "            3. Change Selling price\n",
      "            4. Change MRP\n",
      "            5. View All inventory\n",
      "            6. Delete Products\n",
      "            7. Check Payment \n",
      "            8. Close Account\n",
      "            9. View Seller Profile\n",
      "            10. Change Password\n",
      "            11. Logout\n",
      "             1\n",
      "Enter Product Name talking cat\n",
      "Enter Product SP 399\n",
      "Enter Product MRP 599\n",
      "Enter Product Stock 10\n"
     ]
    },
    {
     "name": "stdout",
     "output_type": "stream",
     "text": [
      "\n",
      "Your Product live in Amazon Shopping.......\n",
      "talking cat Product ID: B0810313132\n"
     ]
    },
    {
     "name": "stdin",
     "output_type": "stream",
     "text": [
      "\n",
      "            1. Add product\n",
      "            2. Update Stock\n",
      "            3. Change Selling price\n",
      "            4. Change MRP\n",
      "            5. View All inventory\n",
      "            6. Delete Products\n",
      "            7. Check Payment \n",
      "            8. Close Account\n",
      "            9. View Seller Profile\n",
      "            10. Change Password\n",
      "            11. Logout\n",
      "             5\n"
     ]
    },
    {
     "name": "stdout",
     "output_type": "stream",
     "text": [
      "Product ID: B0883420664\n",
      "Product Name toy\n",
      "Product SP 199\n",
      "Product MRP 499\n",
      "Product Stock 10\n",
      "....................................\n",
      "Product ID: B0810313132\n",
      "Product Name talking cat\n",
      "Product SP 399\n",
      "Product MRP 599\n",
      "Product Stock 10\n",
      "....................................\n"
     ]
    },
    {
     "name": "stdin",
     "output_type": "stream",
     "text": [
      "\n",
      "            1. Add product\n",
      "            2. Update Stock\n",
      "            3. Change Selling price\n",
      "            4. Change MRP\n",
      "            5. View All inventory\n",
      "            6. Delete Products\n",
      "            7. Check Payment \n",
      "            8. Close Account\n",
      "            9. View Seller Profile\n",
      "            10. Change Password\n",
      "            11. Logout\n",
      "             1\n",
      "Enter Product Name mosquito racket\n",
      "Enter Product SP 499\n",
      "Enter Product MRP 799\n",
      "Enter Product Stock 10\n"
     ]
    },
    {
     "name": "stdout",
     "output_type": "stream",
     "text": [
      "\n",
      "Your Product live in Amazon Shopping.......\n",
      "mosquito racket Product ID: B0875386844\n"
     ]
    },
    {
     "name": "stdin",
     "output_type": "stream",
     "text": [
      "\n",
      "            1. Add product\n",
      "            2. Update Stock\n",
      "            3. Change Selling price\n",
      "            4. Change MRP\n",
      "            5. View All inventory\n",
      "            6. Delete Products\n",
      "            7. Check Payment \n",
      "            8. Close Account\n",
      "            9. View Seller Profile\n",
      "            10. Change Password\n",
      "            11. Logout\n",
      "             7\n",
      "Enter Seller_ID ID AMS5598\n"
     ]
    },
    {
     "name": "stdout",
     "output_type": "stream",
     "text": [
      "0\n"
     ]
    },
    {
     "name": "stdin",
     "output_type": "stream",
     "text": [
      "\n",
      "            1. Add product\n",
      "            2. Update Stock\n",
      "            3. Change Selling price\n",
      "            4. Change MRP\n",
      "            5. View All inventory\n",
      "            6. Delete Products\n",
      "            7. Check Payment \n",
      "            8. Close Account\n",
      "            9. View Seller Profile\n",
      "            10. Change Password\n",
      "            11. Logout\n",
      "             11\n"
     ]
    },
    {
     "name": "stdout",
     "output_type": "stream",
     "text": [
      "Account Logout\n"
     ]
    },
    {
     "name": "stdin",
     "output_type": "stream",
     "text": [
      "\n",
      "            1. Seller Registration\n",
      "            2. Seller Login\n",
      "            3. Amazon Panel            \n",
      "             2\n",
      "Enter Your Login ID AMS5598\n",
      "Enter Your Login Password 1111\n"
     ]
    },
    {
     "name": "stdout",
     "output_type": "stream",
     "text": [
      "nishant Welcome to Amazon Seller Central\n"
     ]
    },
    {
     "name": "stdin",
     "output_type": "stream",
     "text": [
      "\n",
      "            1. Add product\n",
      "            2. Update Stock\n",
      "            3. Change Selling price\n",
      "            4. Change MRP\n",
      "            5. View All inventory\n",
      "            6. Delete Products\n",
      "            7. Check Payment \n",
      "            8. Close Account\n",
      "            9. View Seller Profile\n",
      "            10. Change Password\n",
      "            11. Logout\n",
      "             11\n"
     ]
    },
    {
     "name": "stdout",
     "output_type": "stream",
     "text": [
      "Account Logout\n"
     ]
    },
    {
     "name": "stdin",
     "output_type": "stream",
     "text": [
      "\n",
      "            1. Seller Registration\n",
      "            2. Seller Login\n",
      "            3. Amazon Panel            \n",
      "             1\n",
      "Enter Your Store Name Nishant_Enterprises\n",
      "Enter Your Name Nishant Kumar\n",
      "Enter Your Contact Details 8287015416\n",
      "Enter Your Email ID Nishant_Enterprises@gmail.com\n",
      "Enter Your Login Password 2222\n"
     ]
    },
    {
     "name": "stdout",
     "output_type": "stream",
     "text": [
      "congratulation.....!\n",
      "Your Amazon Seller Cetral Created ........... AMS2193\n",
      "\n",
      "\n",
      "Your Loging ID: AMS2193 \n",
      "Your Login Password: 2222\n"
     ]
    },
    {
     "name": "stdin",
     "output_type": "stream",
     "text": [
      "\n",
      "            1. Seller Registration\n",
      "            2. Seller Login\n",
      "            3. Amazon Panel            \n",
      "             2\n",
      "Enter Your Login ID AMS2193\n",
      "Enter Your Login Password 2222\n"
     ]
    },
    {
     "name": "stdout",
     "output_type": "stream",
     "text": [
      "Nishant_Enterprises Welcome to Amazon Seller Central\n"
     ]
    },
    {
     "name": "stdin",
     "output_type": "stream",
     "text": [
      "\n",
      "            1. Add product\n",
      "            2. Update Stock\n",
      "            3. Change Selling price\n",
      "            4. Change MRP\n",
      "            5. View All inventory\n",
      "            6. Delete Products\n",
      "            7. Check Payment \n",
      "            8. Close Account\n",
      "            9. View Seller Profile\n",
      "            10. Change Password\n",
      "            11. Logout\n",
      "             1\n",
      "Enter Product Name type c charging cable\n",
      "Enter Product SP 299\n",
      "Enter Product MRP 499\n",
      "Enter Product Stock 30\n"
     ]
    },
    {
     "name": "stdout",
     "output_type": "stream",
     "text": [
      "\n",
      "Your Product live in Amazon Shopping.......\n",
      "type c charging cable Product ID: B0812600223\n"
     ]
    },
    {
     "name": "stdin",
     "output_type": "stream",
     "text": [
      "\n",
      "            1. Add product\n",
      "            2. Update Stock\n",
      "            3. Change Selling price\n",
      "            4. Change MRP\n",
      "            5. View All inventory\n",
      "            6. Delete Products\n",
      "            7. Check Payment \n",
      "            8. Close Account\n",
      "            9. View Seller Profile\n",
      "            10. Change Password\n",
      "            11. Logout\n",
      "             1\n",
      "Enter Product Name iphone 14 case cover\n",
      "Enter Product SP 499\n",
      "Enter Product MRP 699\n",
      "Enter Product Stock 50\n"
     ]
    },
    {
     "name": "stdout",
     "output_type": "stream",
     "text": [
      "\n",
      "Your Product live in Amazon Shopping.......\n",
      "iphone 14 case cover Product ID: B0831093654\n"
     ]
    },
    {
     "name": "stdin",
     "output_type": "stream",
     "text": [
      "\n",
      "            1. Add product\n",
      "            2. Update Stock\n",
      "            3. Change Selling price\n",
      "            4. Change MRP\n",
      "            5. View All inventory\n",
      "            6. Delete Products\n",
      "            7. Check Payment \n",
      "            8. Close Account\n",
      "            9. View Seller Profile\n",
      "            10. Change Password\n",
      "            11. Logout\n",
      "             5\n"
     ]
    },
    {
     "name": "stdout",
     "output_type": "stream",
     "text": [
      "Product ID: B0812600223\n",
      "Product Name type c charging cable\n",
      "Product SP 299\n",
      "Product MRP 499\n",
      "Product Stock 30\n",
      "....................................\n",
      "Product ID: B0831093654\n",
      "Product Name iphone 14 case cover\n",
      "Product SP 499\n",
      "Product MRP 699\n",
      "Product Stock 50\n",
      "....................................\n"
     ]
    },
    {
     "name": "stdin",
     "output_type": "stream",
     "text": [
      "\n",
      "            1. Add product\n",
      "            2. Update Stock\n",
      "            3. Change Selling price\n",
      "            4. Change MRP\n",
      "            5. View All inventory\n",
      "            6. Delete Products\n",
      "            7. Check Payment \n",
      "            8. Close Account\n",
      "            9. View Seller Profile\n",
      "            10. Change Password\n",
      "            11. Logout\n",
      "             11\n"
     ]
    },
    {
     "name": "stdout",
     "output_type": "stream",
     "text": [
      "Account Logout\n"
     ]
    },
    {
     "name": "stdin",
     "output_type": "stream",
     "text": [
      "\n",
      "            1. Seller Registration\n",
      "            2. Seller Login\n",
      "            3. Amazon Panel            \n",
      "             3\n"
     ]
    },
    {
     "name": "stdout",
     "output_type": "stream",
     "text": [
      "Redirecting to Amazon Panel\n"
     ]
    },
    {
     "name": "stdin",
     "output_type": "stream",
     "text": [
      "\n",
      "            1. Admin\n",
      "            2. Seller\n",
      "            3. Customer\n",
      "            4. Exit\n",
      "             3\n",
      "\n",
      "            1. Customer Registration\n",
      "            2. Customer Login\n",
      "            3. Amazon Panel            \n",
      "             1\n",
      "Enter Your Name niku\n",
      "Enter Your Contact Details 9654546020\n",
      "Enter Your Email ID niku@gmail.com\n",
      "Enter Your Login Password 1111\n"
     ]
    },
    {
     "name": "stdout",
     "output_type": "stream",
     "text": [
      "congratulation.....!\n",
      "Your Amazon Shopping Account Created ........... CUST2360\n",
      "\n",
      "\n",
      "Your Loging ID: CUST2360 \n",
      "Your Login Password: 1111\n"
     ]
    },
    {
     "name": "stdin",
     "output_type": "stream",
     "text": [
      "\n",
      "            1. Customer Registration\n",
      "            2. Customer Login\n",
      "            3. Amazon Panel            \n",
      "             2\n",
      "Enter Your Login ID CUST2360\n",
      "Enter Your Login Password 1111\n"
     ]
    },
    {
     "name": "stdout",
     "output_type": "stream",
     "text": [
      "niku Welcome to Amazon Shopping\n"
     ]
    },
    {
     "name": "stdin",
     "output_type": "stream",
     "text": [
      "\n",
      "            1. Shopping\n",
      "            2. Order Details\n",
      "            3. Order Invoice\n",
      "            4. Cancel Order\n",
      "            5. View Customer Profile\n",
      "            6. Change Password\n",
      "            7. Delete Account\n",
      "            8. Logout\n",
      "             1\n"
     ]
    },
    {
     "name": "stdout",
     "output_type": "stream",
     "text": [
      "Product ID: B0883420664\n",
      "Product Name: toy\n",
      "Product SP: 199\n",
      "Product MRP: 499\n",
      "Product Stock: 10\n",
      "....................................\n",
      "\n",
      "Product ID: B0810313132\n",
      "Product Name: talking cat\n",
      "Product SP: 399\n",
      "Product MRP: 599\n",
      "Product Stock: 10\n",
      "....................................\n",
      "\n",
      "Product ID: B0875386844\n",
      "Product Name: mosquito racket\n",
      "Product SP: 499\n",
      "Product MRP: 799\n",
      "Product Stock: 10\n",
      "....................................\n",
      "\n",
      "Product ID: B0812600223\n",
      "Product Name: type c charging cable\n",
      "Product SP: 299\n",
      "Product MRP: 499\n",
      "Product Stock: 30\n",
      "....................................\n",
      "\n",
      "Product ID: B0831093654\n",
      "Product Name: iphone 14 case cover\n",
      "Product SP: 499\n",
      "Product MRP: 699\n",
      "Product Stock: 50\n",
      "....................................\n",
      "\n"
     ]
    },
    {
     "name": "stdin",
     "output_type": "stream",
     "text": [
      "Enter Product ID B0812600223\n",
      "Enter Order QTY 2\n"
     ]
    },
    {
     "name": "stdout",
     "output_type": "stream",
     "text": [
      "Your Order Has Been Placed Successfully.......\n",
      "Your Order ID: ORD3660192024\n"
     ]
    },
    {
     "name": "stdin",
     "output_type": "stream",
     "text": [
      "\n",
      "            1. Shopping\n",
      "            2. Order Details\n",
      "            3. Order Invoice\n",
      "            4. Cancel Order\n",
      "            5. View Customer Profile\n",
      "            6. Change Password\n",
      "            7. Delete Account\n",
      "            8. Logout\n",
      "             2\n"
     ]
    },
    {
     "name": "stdout",
     "output_type": "stream",
     "text": [
      "Order ID: ORD3660192024\n",
      "Product ID: B0812600223\n",
      "Seller ID: AMS2193\n",
      "Order Price: 299\n",
      "Order MRP: 499\n",
      "Amount: 598\n",
      "GST: 107.64\n",
      "Total Amount: 705.64\n",
      "Order Status: Shipped\n",
      "....................................\n"
     ]
    },
    {
     "name": "stdin",
     "output_type": "stream",
     "text": [
      "\n",
      "            1. Shopping\n",
      "            2. Order Details\n",
      "            3. Order Invoice\n",
      "            4. Cancel Order\n",
      "            5. View Customer Profile\n",
      "            6. Change Password\n",
      "            7. Delete Account\n",
      "            8. Logout\n",
      "             3\n"
     ]
    },
    {
     "name": "stdout",
     "output_type": "stream",
     "text": [
      "niku Your Purchase Invoice\n",
      "Order ID: ORD3660192024\n",
      "Name: niku\n",
      "Product: B0812600223\n",
      "Selling Price: 299\n",
      "MRP: 499\n",
      "Amount: 598\n",
      "GST on Product: 107.64\n",
      "Total Bill: 705.64\n",
      "Order Status: Shipped\n",
      "------------------------------------\n"
     ]
    },
    {
     "name": "stdin",
     "output_type": "stream",
     "text": [
      "\n",
      "            1. Shopping\n",
      "            2. Order Details\n",
      "            3. Order Invoice\n",
      "            4. Cancel Order\n",
      "            5. View Customer Profile\n",
      "            6. Change Password\n",
      "            7. Delete Account\n",
      "            8. Logout\n",
      "             5\n"
     ]
    },
    {
     "name": "stdout",
     "output_type": "stream",
     "text": [
      "Amazon Customer Profile\n",
      "Customer ID: CUST2360\n",
      "Customer Name: niku\n",
      "Customer Contact: 9654546020\n",
      "Customer Email id: niku@gmail.com\n",
      "Customer Password: 1111\n"
     ]
    },
    {
     "name": "stdin",
     "output_type": "stream",
     "text": [
      "\n",
      "            1. Shopping\n",
      "            2. Order Details\n",
      "            3. Order Invoice\n",
      "            4. Cancel Order\n",
      "            5. View Customer Profile\n",
      "            6. Change Password\n",
      "            7. Delete Account\n",
      "            8. Logout\n",
      "             8\n"
     ]
    },
    {
     "name": "stdout",
     "output_type": "stream",
     "text": [
      "Account Logout\n"
     ]
    },
    {
     "name": "stdin",
     "output_type": "stream",
     "text": [
      "\n",
      "            1. Customer Registration\n",
      "            2. Customer Login\n",
      "            3. Amazon Panel            \n",
      "             3\n"
     ]
    },
    {
     "name": "stdout",
     "output_type": "stream",
     "text": [
      "Redirecting to Amazon Panel\n"
     ]
    },
    {
     "name": "stdin",
     "output_type": "stream",
     "text": [
      "\n",
      "            1. Admin\n",
      "            2. Seller\n",
      "            3. Customer\n",
      "            4. Exit\n",
      "             1\n",
      "\n",
      "            1. All Customer Details\n",
      "            2. All Placed Orders\n",
      "            3. All Registered Sellers\n",
      "            4. All Sellers Balance\n",
      "            5. Amazon Earning\n",
      "            6. Amazon Panel\n",
      "             1\n"
     ]
    },
    {
     "name": "stdout",
     "output_type": "stream",
     "text": [
      "All Customer Details:\n",
      "Customer ID: CUST2360\n",
      "Name: niku\n",
      "Contact: 9654546020\n",
      "Email: niku@gmail.com\n",
      "....................................\n"
     ]
    },
    {
     "name": "stdin",
     "output_type": "stream",
     "text": [
      "\n",
      "            1. All Customer Details\n",
      "            2. All Placed Orders\n",
      "            3. All Registered Sellers\n",
      "            4. All Sellers Balance\n",
      "            5. Amazon Earning\n",
      "            6. Amazon Panel\n",
      "             2\n"
     ]
    },
    {
     "name": "stdout",
     "output_type": "stream",
     "text": [
      "All Placed Orders:\n",
      "Order ID: ORD3660192024\n",
      "Total Amount: 705.64\n",
      "Customer ID: CUST2360\n",
      "Customer Name: niku\n",
      "....................................\n"
     ]
    },
    {
     "name": "stdin",
     "output_type": "stream",
     "text": [
      "\n",
      "            1. All Customer Details\n",
      "            2. All Placed Orders\n",
      "            3. All Registered Sellers\n",
      "            4. All Sellers Balance\n",
      "            5. Amazon Earning\n",
      "            6. Amazon Panel\n",
      "             3\n"
     ]
    },
    {
     "name": "stdout",
     "output_type": "stream",
     "text": [
      "All Registered Sellers:\n",
      "Seller ID: AMS5598\n",
      "Store Name: nishant\n",
      "Total Products: 3\n",
      "Total Orders: 1\n",
      "Total Amount from Orders: 705.64\n",
      "....................................\n",
      "Seller ID: AMS2193\n",
      "Store Name: Nishant_Enterprises\n",
      "Total Products: 2\n",
      "Total Orders: 1\n",
      "Total Amount from Orders: 705.64\n",
      "....................................\n"
     ]
    },
    {
     "name": "stdin",
     "output_type": "stream",
     "text": [
      "\n",
      "            1. All Customer Details\n",
      "            2. All Placed Orders\n",
      "            3. All Registered Sellers\n",
      "            4. All Sellers Balance\n",
      "            5. Amazon Earning\n",
      "            6. Amazon Panel\n",
      "             4\n"
     ]
    },
    {
     "name": "stdout",
     "output_type": "stream",
     "text": [
      "All Sellers Balance:\n",
      "Seller ID: AMS5598\n",
      "Balance: 0\n",
      "....................................\n",
      "Seller ID: AMS2193\n",
      "Balance: 705.64\n",
      "....................................\n"
     ]
    },
    {
     "name": "stdin",
     "output_type": "stream",
     "text": [
      "\n",
      "            1. All Customer Details\n",
      "            2. All Placed Orders\n",
      "            3. All Registered Sellers\n",
      "            4. All Sellers Balance\n",
      "            5. Amazon Earning\n",
      "            6. Amazon Panel\n",
      "             5\n"
     ]
    },
    {
     "name": "stdout",
     "output_type": "stream",
     "text": [
      "Combined Total Earning of All Sellers: 705.64\n"
     ]
    },
    {
     "name": "stdin",
     "output_type": "stream",
     "text": [
      "\n",
      "            1. All Customer Details\n",
      "            2. All Placed Orders\n",
      "            3. All Registered Sellers\n",
      "            4. All Sellers Balance\n",
      "            5. Amazon Earning\n",
      "            6. Amazon Panel\n",
      "             6\n",
      "\n",
      "            1. Admin\n",
      "            2. Seller\n",
      "            3. Customer\n",
      "            4. Exit\n",
      "             2\n",
      "\n",
      "            1. Seller Registration\n",
      "            2. Seller Login\n",
      "            3. Amazon Panel            \n",
      "             2\n",
      "Enter Your Login ID AMS2193\n",
      "Enter Your Login Password 2222\n"
     ]
    },
    {
     "name": "stdout",
     "output_type": "stream",
     "text": [
      "Nishant_Enterprises Welcome to Amazon Seller Central\n"
     ]
    },
    {
     "name": "stdin",
     "output_type": "stream",
     "text": [
      "\n",
      "            1. Add product\n",
      "            2. Update Stock\n",
      "            3. Change Selling price\n",
      "            4. Change MRP\n",
      "            5. View All inventory\n",
      "            6. Delete Products\n",
      "            7. Check Payment \n",
      "            8. Close Account\n",
      "            9. View Seller Profile\n",
      "            10. Change Password\n",
      "            11. Logout\n",
      "             7\n",
      "Enter Seller_ID ID AMS2193\n"
     ]
    },
    {
     "name": "stdout",
     "output_type": "stream",
     "text": [
      "705.64\n"
     ]
    },
    {
     "name": "stdin",
     "output_type": "stream",
     "text": [
      "\n",
      "            1. Add product\n",
      "            2. Update Stock\n",
      "            3. Change Selling price\n",
      "            4. Change MRP\n",
      "            5. View All inventory\n",
      "            6. Delete Products\n",
      "            7. Check Payment \n",
      "            8. Close Account\n",
      "            9. View Seller Profile\n",
      "            10. Change Password\n",
      "            11. Logout\n",
      "             11\n"
     ]
    },
    {
     "name": "stdout",
     "output_type": "stream",
     "text": [
      "Account Logout\n"
     ]
    },
    {
     "name": "stdin",
     "output_type": "stream",
     "text": [
      "\n",
      "            1. Seller Registration\n",
      "            2. Seller Login\n",
      "            3. Amazon Panel            \n",
      "             3\n"
     ]
    },
    {
     "name": "stdout",
     "output_type": "stream",
     "text": [
      "Redirecting to Amazon Panel\n"
     ]
    },
    {
     "name": "stdin",
     "output_type": "stream",
     "text": [
      "\n",
      "            1. Admin\n",
      "            2. Seller\n",
      "            3. Customer\n",
      "            4. Exit\n",
      "             4\n"
     ]
    },
    {
     "name": "stdout",
     "output_type": "stream",
     "text": [
      "Thanks for visit\n"
     ]
    }
   ],
   "source": [
    "import numpy as np\n",
    "import getpass as g\n",
    "from datetime import date\n",
    "\n",
    "class Amazon:\n",
    "    def __init__(self):\n",
    "        print(\"welcome to amazon\")\n",
    "        # seller class\n",
    "        self.Seller_Details = {}\n",
    "        self.Seller_ID = None\n",
    "        self.Product_ID = None\n",
    "        self.Product_Details = {}\n",
    "        # class customer\n",
    "        self.Customer_Details = {}\n",
    "        self.Customer_ID = None\n",
    "        self.Order_ID = None\n",
    "\n",
    "    def amazon_panel(self):\n",
    "        while True:\n",
    "            choice = int(input(\"\"\"\n",
    "            1. Admin\n",
    "            2. Seller\n",
    "            3. Customer\n",
    "            4. Exit\n",
    "            \"\"\"))\n",
    "            if choice == 1:\n",
    "                self.Admin_panel()\n",
    "            elif choice == 2:\n",
    "                self.Amazon_Seller_Central()\n",
    "            elif choice == 3:\n",
    "                self.Amazon_Shopping()\n",
    "            elif choice == 4:\n",
    "                print(\"Thanks for visit\")\n",
    "                break\n",
    "            else:\n",
    "                print(\"wrong choice\")\n",
    "# =============================================================================================================================================================\n",
    "\n",
    "    def Admin_panel(self):\n",
    "        while True:\n",
    "            choice = int(input(\"\"\"\n",
    "            1. All Customer Details\n",
    "            2. All Placed Orders\n",
    "            3. All Registered Sellers\n",
    "            4. All Sellers Balance\n",
    "            5. Amazon Earning\n",
    "            6. Amazon Panel\n",
    "            \"\"\"))\n",
    "            if choice == 1:\n",
    "                self.all_customer_details()\n",
    "            elif choice == 2:\n",
    "                self.all_placed_orders()\n",
    "            elif choice == 3:\n",
    "                self.all_registered_sellers()\n",
    "            elif choice == 4:\n",
    "                self.all_sellers_balance()\n",
    "            elif choice == 5:\n",
    "                self.Amazon_Earning()\n",
    "            elif choice == 6:\n",
    "                break\n",
    "            else:\n",
    "                print(\"Wrong Choice\")\n",
    "\n",
    "    def all_customer_details(self):\n",
    "        # Function to display all customer details\n",
    "        print(\"All Customer Details:\")\n",
    "        for Customer_ID, Customer in self.Customer_Details.items():\n",
    "            print(\"Customer ID:\", Customer_ID)\n",
    "            print(\"Name:\", Customer[\"Name\"])\n",
    "            print(\"Contact:\", Customer[\"Contact\"])\n",
    "            print(\"Email:\", Customer[\"Email\"])\n",
    "            print(\"....................................\")\n",
    "\n",
    "    def all_placed_orders(self):\n",
    "        # Function to display all placed orders\n",
    "        print(\"All Placed Orders:\")\n",
    "        for Customer_ID, Customer in self.Customer_Details.items():\n",
    "            for Order_ID, Order in Customer[\"Order_Data\"].items():\n",
    "                print(\"Order ID:\", Order_ID)\n",
    "                print(\"Total Amount:\", Order[\"Total_Amount\"])\n",
    "                print(\"Customer ID:\", Customer_ID)\n",
    "                print(\"Customer Name:\", Customer[\"Name\"])\n",
    "                print(\"....................................\")\n",
    "\n",
    "    def all_registered_sellers(self):\n",
    "        # Function to display all registered sellers and their details\n",
    "        print(\"All Registered Sellers:\")\n",
    "        for Seller_ID, Seller in self.Seller_Details.items():\n",
    "            print(\"Seller ID:\", Seller_ID)\n",
    "            print(\"Store Name:\", Seller[\"Store_Name\"])\n",
    "            print(\"Total Products:\", len(Seller[\"Product\"]))\n",
    "            total_orders = sum(len(Customer[\"Order_Data\"]) for Customer in self.Customer_Details.values())\n",
    "            total_amount = sum(Order[\"Total_Amount\"] for Customer in self.Customer_Details.values() for Order in Customer[\"Order_Data\"].values())\n",
    "            print(\"Total Orders:\", total_orders)\n",
    "            print(\"Total Amount from Orders:\", total_amount)\n",
    "            print(\"....................................\")\n",
    "\n",
    "    def all_sellers_balance(self):\n",
    "        # Function to display the balance of all sellers\n",
    "        print(\"All Sellers Balance:\")\n",
    "        for Seller_ID, Seller in self.Seller_Details.items():\n",
    "            print(\"Seller ID:\", Seller_ID)\n",
    "            print(\"Balance:\", Seller[\"Balance\"])\n",
    "            print(\"....................................\")\n",
    "\n",
    "    def Amazon_Earning(self):\n",
    "        # Function to combine the total earnings of all sellers\n",
    "        total_earning = sum(Seller[\"Balance\"] for Seller in self.Seller_Details.values())\n",
    "        print(\"Combined Total Earning of All Sellers:\", total_earning)\n",
    "\n",
    "# =============================================================================================================================================================\n",
    "    \n",
    "    def Amazon_Seller_Central(self):\n",
    "        while True:\n",
    "            choice = int(input(\"\"\"\n",
    "            1. Seller Registration\n",
    "            2. Seller Login\n",
    "            3. Amazon Panel            \n",
    "            \"\"\"))\n",
    "            if choice == 1:\n",
    "                self.seller_registration()\n",
    "            elif choice == 2:\n",
    "                self.seller_login()\n",
    "            elif choice == 3:\n",
    "                print(\"Redirecting to Amazon Panel\")\n",
    "                break\n",
    "            else:\n",
    "                print(\"Wrong Choice\")\n",
    "\n",
    "    def seller_registration(self):\n",
    "        Seller_ID = \"AMS\" + str(np.random.randint(1000, 9999))\n",
    "        Seller_data = {\n",
    "            \"Store_Name\": input(\"Enter Your Store Name\"),\n",
    "            \"Name\": input(\"Enter Your Name\"),\n",
    "            \"Contact\": int(input(\"Enter Your Contact Details\")),\n",
    "            \"Email\": input(\"Enter Your Email ID\"),\n",
    "            \"Password\": input(\"Enter Your Login Password\"),\n",
    "            \"Product\": {},\n",
    "            \"Balance\": 0\n",
    "        }\n",
    "        self.Seller_Details[Seller_ID] = Seller_data\n",
    "        self.Seller_ID = Seller_ID\n",
    "        print(\"congratulation.....!\\nYour Amazon Seller Cetral Created ...........\", Seller_ID)\n",
    "        print(\"\\n\\nYour Loging ID:\", Seller_ID, \"\\nYour Login Password:\", Seller_data[\"Password\"])\n",
    "\n",
    "    def seller_login(self):\n",
    "        Seller_ID = input(\"Enter Your Login ID\")\n",
    "        Login_Pass = input(\"Enter Your Login Password\")\n",
    "        if Seller_ID in self.Seller_Details and Login_Pass == self.Seller_Details[Seller_ID][\"Password\"]:\n",
    "            self.Seller_ID = Seller_ID  # Fixed the login validation issue\n",
    "            print(self.Seller_Details[self.Seller_ID][\"Store_Name\"], \"Welcome to Amazon Seller Central\")\n",
    "            self.seller_login_option()\n",
    "        else:\n",
    "            print(\"Credential Not Match\")\n",
    "\n",
    "    def seller_login_option(self):\n",
    "        while True:\n",
    "            choice = int(input(\"\"\"\n",
    "            1. Add product\n",
    "            2. Update Stock\n",
    "            3. Change Selling price\n",
    "            4. Change MRP\n",
    "            5. View All inventory\n",
    "            6. Delete Products\n",
    "            7. Check Payment \n",
    "            8. Close Account\n",
    "            9. View Seller Profile\n",
    "            10. Change Password\n",
    "            11. Logout\n",
    "            \"\"\"))\n",
    "            if choice == 1:\n",
    "                self.Add_Product()  # done\n",
    "            elif choice == 2:\n",
    "                self.Update_Stock()  # done\n",
    "            elif choice == 3:\n",
    "                self.Change_SP()  # done\n",
    "            elif choice == 4:\n",
    "                self.Change_MRP()  # done\n",
    "            elif choice == 5:\n",
    "                self.Inventory()  # left\n",
    "            elif choice == 6:\n",
    "                self.Delete_product()  # done\n",
    "            elif choice == 7:\n",
    "                self.Payment()  # done\n",
    "            elif choice == 8:\n",
    "                self.Close_Account()  # done\n",
    "            elif choice == 9:\n",
    "                self.Seller_Profile()  # done\n",
    "            elif choice == 10:\n",
    "                self.Change_Password()  # done\n",
    "            elif choice == 11:\n",
    "                print(\"Account Logout\")\n",
    "                break\n",
    "            else:\n",
    "                print(\"wrong choice\")\n",
    "\n",
    "    def Add_Product(self):\n",
    "        Product_ID = \"B08\" + str(np.random.randint(10000000, 99999999))\n",
    "        self.Seller_Details[self.Seller_ID][\"Product\"][Product_ID] = {\n",
    "            \"Product_Name\": input(\"Enter Product Name\"),\n",
    "            \"Selling_Price\": int(input(\"Enter Product SP\")),\n",
    "            \"MRP\": int(input(\"Enter Product MRP\")),\n",
    "            \"Stock\": int(input(\"Enter Product Stock\")),\n",
    "        }\n",
    "        self.Product_ID = Product_ID\n",
    "        print(\"\\nYour Product live in Amazon Shopping.......\")\n",
    "        print(self.Seller_Details[self.Seller_ID][\"Product\"][self.Product_ID][\"Product_Name\"], \"Product ID:\", self.Product_ID)\n",
    "\n",
    "    def Update_Stock(self):\n",
    "        Product_ID = input(\"Enter Product ID\")\n",
    "        if Product_ID in self.Seller_Details[self.Seller_ID][\"Product\"]:\n",
    "            Stock = int(input(\"Update Stock\"))\n",
    "            self.Seller_Details[self.Seller_ID][\"Product\"][Product_ID][\"Stock\"] = Stock\n",
    "            print(f\"\"\"Stock Updated\\n new stock is: {self.Seller_Details[self.Seller_ID][\"Product\"][Product_ID][\"Stock\"]}\"\"\")\n",
    "\n",
    "    def Change_SP(self):\n",
    "        Product_ID = input(\"Enter Product ID\")\n",
    "        if Product_ID in self.Seller_Details[self.Seller_ID][\"Product\"]:\n",
    "            SP = int(input(\"Update Selling Price\"))\n",
    "            self.Seller_Details[self.Seller_ID][\"Product\"][Product_ID][\"Selling_Price\"] = SP\n",
    "            print(f\"\"\"Selling Price Updated\\n new Selling Price is: {self.Seller_Details[self.Seller_ID][\"Product\"][Product_ID][\"Selling_Price\"]}\"\"\")\n",
    "\n",
    "    def Change_MRP(self):\n",
    "        Product_ID = input(\"Enter Product ID\")\n",
    "        if Product_ID in self.Seller_Details[self.Seller_ID][\"Product\"]:\n",
    "            MRP = int(input(\"Update MRP\"))\n",
    "            self.Seller_Details[self.Seller_ID][\"Product\"][Product_ID][\"MRP\"] = MRP\n",
    "            print(f\"\"\"MRP Updated\\n new MRP is: {self.Seller_Details[self.Seller_ID][\"Product\"][Product_ID][\"MRP\"]}\"\"\")\n",
    "\n",
    "    def Change_Password(self):\n",
    "        Seller_ID = input(\"Enter Seller_ID ID\")\n",
    "        if Seller_ID in self.Seller_Details:\n",
    "            Password = input(\"Update Password\")\n",
    "            self.Seller_Details[self.Seller_ID][\"Password\"] = Password\n",
    "            print(f\"\"\"Password Updated\\n Your New Password is: {self.Seller_Details[self.Seller_ID][\"Password\"]}\"\"\")\n",
    "\n",
    "    def Payment(self):\n",
    "        Seller_ID = input(\"Enter Seller_ID ID\")\n",
    "        if Seller_ID in self.Seller_Details:\n",
    "            print(self.Seller_Details[self.Seller_ID][\"Balance\"])\n",
    "\n",
    "    def Delete_product(self):\n",
    "        Product_ID = input(\"Enter Product ID\")\n",
    "        if Product_ID in self.Seller_Details[self.Seller_ID][\"Product\"]:\n",
    "            del self.Seller_Details[self.Seller_ID][\"Product\"][Product_ID]\n",
    "            print(Product_ID, \"Product Deleted from Inventory & Amazon Shopping List\")\n",
    "        else:\n",
    "            print(\"product not found\")\n",
    "\n",
    "    def Close_Account(self):\n",
    "        Seller_ID = input(\"Enter Seller ID\")\n",
    "        if Seller_ID in self.Seller_Details:\n",
    "            del self.Seller_Details[Seller_ID]\n",
    "            self.Seller_ID = None\n",
    "            print(\"Amazon Seller central Closed .........\")\n",
    "        else:\n",
    "            print(\"Seller ID not found\")\n",
    "\n",
    "    def Seller_Profile(self):\n",
    "        print(\"Seller ID:\", self.Seller_ID)\n",
    "        print(\"Store Name:\", self.Seller_Details[self.Seller_ID][\"Store_Name\"])\n",
    "        print(\"Seller Name:\", self.Seller_Details[self.Seller_ID][\"Name\"])\n",
    "        print(\"Seller Contact:\", self.Seller_Details[self.Seller_ID][\"Contact\"])\n",
    "        print(\"Seller Email id:\", self.Seller_Details[self.Seller_ID][\"Email\"])\n",
    "        print(\"Seller Password:\", self.Seller_Details[self.Seller_ID][\"Password\"])\n",
    "        print(\"Total Balance:\", self.Seller_Details[self.Seller_ID][\"Balance\"])\n",
    "\n",
    "    def Inventory(self):\n",
    "        for Product_ID, Products in self.Seller_Details[self.Seller_ID][\"Product\"].items():\n",
    "            print(\"Product ID:\", Product_ID)\n",
    "            print(\"Product Name\", Products[\"Product_Name\"])\n",
    "            print(\"Product SP\", Products[\"Selling_Price\"])\n",
    "            print(\"Product MRP\", Products[\"MRP\"])\n",
    "            print(\"Product Stock\", Products[\"Stock\"])\n",
    "            print(\"....................................\")\n",
    "\n",
    "# ======================================================================================================================================================================\n",
    "    def Amazon_Shopping(self):\n",
    "        while True:\n",
    "            choice = int(input(\"\"\"\n",
    "            1. Customer Registration\n",
    "            2. Customer Login\n",
    "            3. Amazon Panel            \n",
    "            \"\"\"))\n",
    "            if choice == 1:\n",
    "                self.Customer_registration()\n",
    "            elif choice == 2:\n",
    "                self.Customer_login()\n",
    "            elif choice == 3:\n",
    "                print(\"Redirecting to Amazon Panel\")\n",
    "                break\n",
    "            else:\n",
    "                print(\"Wrong Choice\")\n",
    "\n",
    "    def Customer_registration(self):\n",
    "        Customer_ID = \"CUST\" + str(np.random.randint(1000, 9999))\n",
    "        Customer_data = {\n",
    "            \"Name\": input(\"Enter Your Name\"),\n",
    "            \"Contact\": int(input(\"Enter Your Contact Details\")),\n",
    "            \"Email\": input(\"Enter Your Email ID\"),\n",
    "            \"Password\": input(\"Enter Your Login Password\"),\n",
    "            \"Order_Data\": {}\n",
    "        }\n",
    "        self.Customer_Details[Customer_ID] = Customer_data\n",
    "        self.Customer_ID = Customer_ID\n",
    "        print(\"congratulation.....!\\nYour Amazon Shopping Account Created ...........\", Customer_ID)\n",
    "        print(\"\\n\\nYour Loging ID:\", Customer_ID, \"\\nYour Login Password:\", Customer_data[\"Password\"])\n",
    "\n",
    "    def Customer_login(self):\n",
    "        Customer_ID = input(\"Enter Your Login ID\")\n",
    "        Login_Pass = input(\"Enter Your Login Password\")\n",
    "        if Customer_ID in self.Customer_Details and Login_Pass == self.Customer_Details[Customer_ID][\"Password\"]:\n",
    "            self.Customer_ID = Customer_ID  # Fixed the login validation issue\n",
    "            print(self.Customer_Details[self.Customer_ID][\"Name\"], \"Welcome to Amazon Shopping\")\n",
    "            self.Customer_login_option()\n",
    "        else:\n",
    "            print(\"Credential Not Match\")\n",
    "\n",
    "    def Customer_login_option(self):\n",
    "        while True:\n",
    "            choice = int(input(\"\"\"\n",
    "            1. Shopping\n",
    "            2. Order Details\n",
    "            3. Order Invoice\n",
    "            4. Cancel Order\n",
    "            5. View Customer Profile\n",
    "            6. Change Password\n",
    "            7. Delete Account\n",
    "            8. Logout\n",
    "            \"\"\"))\n",
    "            if choice == 1:\n",
    "                self.Shopping()  # done\n",
    "            elif choice == 2:\n",
    "                self.Order_Details()  # done\n",
    "            elif choice == 3:\n",
    "                self.Order_Invoice()  # done\n",
    "            elif choice == 4:\n",
    "                self.Cancel_Order()  # done\n",
    "            elif choice == 5:\n",
    "                self.Customer_Profile()  # done\n",
    "            elif choice == 6:\n",
    "                self.Change_Password()  # done\n",
    "            elif choice == 7:\n",
    "                self.Delete_Shopping_Account()  # done\n",
    "            elif choice == 8:\n",
    "                print(\"Account Logout\")\n",
    "                break\n",
    "            else:\n",
    "                print(\"wrong choice\")\n",
    "\n",
    "    def Shopping(self):\n",
    "        product_list = []\n",
    "        for seller_id, seller in self.Seller_Details.items():\n",
    "            for Product_ID, Products in seller[\"Product\"].items():\n",
    "                print(\"Product ID:\", Product_ID)\n",
    "                print(\"Product Name:\", Products[\"Product_Name\"])\n",
    "                print(\"Product SP:\", Products[\"Selling_Price\"])\n",
    "                print(\"Product MRP:\", Products[\"MRP\"])\n",
    "                print(\"Product Stock:\", Products[\"Stock\"])\n",
    "                print(\"....................................\\n\")\n",
    "                product_list.append((Product_ID, seller_id))\n",
    "\n",
    "        Product_ID = input(\"Enter Product ID\")\n",
    "        QTY = int(input(\"Enter Order QTY\"))\n",
    "        \n",
    "        seller_id = None\n",
    "        for prod_id, sid in product_list:\n",
    "            if prod_id == Product_ID:\n",
    "                seller_id = sid\n",
    "                break\n",
    "        \n",
    "        if seller_id and self.Seller_Details[seller_id][\"Product\"][Product_ID][\"Stock\"] >= QTY:\n",
    "            Amount = self.Seller_Details[seller_id][\"Product\"][Product_ID][\"Selling_Price\"] * QTY\n",
    "            GST = Amount * 0.18\n",
    "            Total_Amount = Amount + GST\n",
    "            self.Seller_Details[seller_id][\"Product\"][Product_ID][\"Stock\"] -= QTY\n",
    "            self.Seller_Details[seller_id][\"Balance\"] += Total_Amount\n",
    "\n",
    "            Order_ID = \"ORD\" + str(np.random.randint(250000, 450000)) + \"2024\"\n",
    "            self.Order_ID = Order_ID\n",
    "            print(\"Your Order Has Been Placed Successfully.......\")\n",
    "            print(\"Your Order ID:\", self.Order_ID)\n",
    "\n",
    "            self.Customer_Details[self.Customer_ID][\"Order_Data\"][Order_ID] = {\n",
    "                \"Order_Product\": Product_ID,\n",
    "                \"Product_Name\": self.Seller_Details[seller_id][\"Product\"][Product_ID][\"Product_Name\"],\n",
    "                \"Seller_ID\": seller_id,\n",
    "                \"Order_Price\": self.Seller_Details[seller_id][\"Product\"][Product_ID][\"Selling_Price\"],\n",
    "                \"Order_MRP\": self.Seller_Details[seller_id][\"Product\"][Product_ID][\"MRP\"],\n",
    "                \"Amount\":Amount,\n",
    "                \"GST\": GST,\n",
    "                \"Total_Amount\": Total_Amount,\n",
    "                \"Order_Status\": \"Shipped\"\n",
    "            }\n",
    "        else:\n",
    "            print(\"Wrong Product ID or Insufficient Stock\")\n",
    "\n",
    "    def Order_Details(self):\n",
    "        for Order_ID, Order in self.Customer_Details[self.Customer_ID][\"Order_Data\"].items():\n",
    "            print(\"Order ID:\", Order_ID)\n",
    "            print(\"Product ID:\", Order[\"Order_Product\"])\n",
    "            print(\"Seller ID:\", Order[\"Seller_ID\"])\n",
    "            print(\"Order Price:\", Order[\"Order_Price\"])\n",
    "            print(\"Order MRP:\", Order[\"Order_MRP\"])\n",
    "            print(\"Amount:\", Order[\"Amount\"])\n",
    "            print(\"GST:\", Order[\"GST\"])\n",
    "            print(\"Total Amount:\", Order[\"Total_Amount\"])\n",
    "            print(\"Order Status:\", Order[\"Order_Status\"])\n",
    "            print(\"....................................\")\n",
    "\n",
    "    def Order_Invoice(self):\n",
    "        for Order_ID, Order in self.Customer_Details[self.Customer_ID][\"Order_Data\"].items():\n",
    "            print(self.Customer_Details[self.Customer_ID][\"Name\"], \"Your Purchase Invoice\")\n",
    "            print(\"Order ID:\", Order_ID)\n",
    "            print(\"Name:\", self.Customer_Details[self.Customer_ID][\"Name\"])\n",
    "            print(\"Product:\", Order[\"Order_Product\"])\n",
    "            print(\"Selling Price:\", Order[\"Order_Price\"])\n",
    "            print(\"MRP:\", Order[\"Order_MRP\"])\n",
    "            print(\"Amount:\", Order[\"Amount\"])\n",
    "            print(\"GST on Product:\", Order[\"GST\"])\n",
    "            print(\"Total Bill:\", Order[\"Total_Amount\"])\n",
    "            print(\"Order Status:\", Order[\"Order_Status\"])\n",
    "            print(\"------------------------------------\")\n",
    "\n",
    "    def Cancel_Order(self):\n",
    "        Order_ID = input(\"Enter Order ID\")\n",
    "        if Order_ID in self.Customer_Details[self.Customer_ID][\"Order_Data\"]:\n",
    "            self.Customer_Details[self.Customer_ID][\"Order_Data\"][Order_ID][\"Order_Status\"] = \"Cancelled\"\n",
    "            print(\"Your Order Has Been Cancelled.......\")\n",
    "        else:\n",
    "            print(\"Order not found\")\n",
    "\n",
    "    def Customer_Profile(self):\n",
    "        print(\"Amazon Customer Profile\")\n",
    "        print(\"Customer ID:\", self.Customer_ID)\n",
    "        print(\"Customer Name:\", self.Customer_Details[self.Customer_ID][\"Name\"])\n",
    "        print(\"Customer Contact:\", self.Customer_Details[self.Customer_ID][\"Contact\"])\n",
    "        print(\"Customer Email id:\", self.Customer_Details[self.Customer_ID][\"Email\"])\n",
    "        print(\"Customer Password:\", self.Customer_Details[self.Customer_ID][\"Password\"])\n",
    "\n",
    "    def Change_Password(self):\n",
    "        Customer_ID = input(\"Enter Customer_ID ID\")\n",
    "        if Customer_ID in self.Customer_Details:\n",
    "            Password = input(\"Update Password\")\n",
    "            self.Customer_Details[self.Customer_ID][\"Password\"] = Password\n",
    "            print(f\"\"\"Password Updated\\n Your New Password is: {self.Customer_Details[self.Customer_ID][\"Password\"]}\"\"\")\n",
    "\n",
    "    def Delete_Shopping_Account(self):\n",
    "        Customer_ID = input(\"Enter Customer ID\")\n",
    "        if Customer_ID in self.Customer_Details:\n",
    "            del self.Customer_Details[Customer_ID]\n",
    "            self.Customer_ID = None\n",
    "            print(\"Amazon Customer Account Closed .........\")\n",
    "        else:\n",
    "            print(\"Customer ID not found\")\n",
    "\n",
    "\n",
    "amazon = Amazon()\n",
    "amazon.amazon_panel()\n"
   ]
  },
  {
   "cell_type": "code",
   "execution_count": null,
   "id": "92756a3a-baad-4dd0-87e8-efc6fdebad52",
   "metadata": {},
   "outputs": [],
   "source": []
  },
  {
   "cell_type": "code",
   "execution_count": null,
   "id": "96af8cc3-0252-4cf8-853f-812f32eb2eb1",
   "metadata": {},
   "outputs": [],
   "source": []
  },
  {
   "cell_type": "code",
   "execution_count": null,
   "id": "b87f594d-ade1-4835-bde1-5dd82533038b",
   "metadata": {},
   "outputs": [],
   "source": []
  }
 ],
 "metadata": {
  "kernelspec": {
   "display_name": "Python 3 (ipykernel)",
   "language": "python",
   "name": "python3"
  },
  "language_info": {
   "codemirror_mode": {
    "name": "ipython",
    "version": 3
   },
   "file_extension": ".py",
   "mimetype": "text/x-python",
   "name": "python",
   "nbconvert_exporter": "python",
   "pygments_lexer": "ipython3",
   "version": "3.11.7"
  },
  "widgets": {
   "application/vnd.jupyter.widget-state+json": {
    "state": {},
    "version_major": 2,
    "version_minor": 0
   }
  }
 },
 "nbformat": 4,
 "nbformat_minor": 5
}
