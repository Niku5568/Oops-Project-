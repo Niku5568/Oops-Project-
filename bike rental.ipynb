{
 "cells": [
  {
   "cell_type": "markdown",
   "id": "a66c3e3c-f97e-458a-b2dc-aa59cfa7a717",
   "metadata": {
    "jp-MarkdownHeadingCollapsed": true
   },
   "source": [
    "# Basic code"
   ]
  },
  {
   "cell_type": "code",
   "execution_count": 29,
   "id": "278f518d-040b-4766-9bb2-a70e2455491f",
   "metadata": {},
   "outputs": [
    {
     "name": "stdout",
     "output_type": "stream",
     "text": [
      "\n",
      "welcome to bike shop\n",
      "\n"
     ]
    },
    {
     "name": "stdin",
     "output_type": "stream",
     "text": [
      "\n",
      "        1. Check stock\n",
      "        2. Bike on rent\n",
      "        3. customer invoice\n",
      "        4. Exit\n",
      "         2\n",
      "Enter Bike You Want to Rent 12\n",
      "Enter day for rent 3\n"
     ]
    },
    {
     "name": "stdout",
     "output_type": "stream",
     "text": [
      "Bike Rent ID:  None\n",
      "12 Bike Rent Amount 14400\n",
      "3 Days Bike Rent Amount 43200\n",
      "\n",
      "Enter your details for complete process.............\n",
      "\n"
     ]
    },
    {
     "name": "stdin",
     "output_type": "stream",
     "text": [
      "enter your name nishant\n",
      "enter your state delhi\n",
      "enter your contact details 867567567\n",
      "enter your aadhar number 6876757687\n",
      "\n",
      "        1. Check stock\n",
      "        2. Bike on rent\n",
      "        3. customer invoice\n",
      "        4. Exit\n",
      "         3\n",
      "\n",
      "        1. Check stock\n",
      "        2. Bike on rent\n",
      "        3. customer invoice\n",
      "        4. Exit\n",
      "         4\n"
     ]
    },
    {
     "name": "stdout",
     "output_type": "stream",
     "text": [
      "Exit\n"
     ]
    }
   ],
   "source": [
    "from datetime import date\n",
    "class Bike_Shop:\n",
    "    def __init__(self):\n",
    "        print(\"\\nwelcome to bike shop\\n\")\n",
    "        self.stock=120 #int(input(\"enter new bike stock\"))\n",
    "        self.bike_price=1200\n",
    "        self.bike_rent_id=None\n",
    "        self.bike=None\n",
    "        self.days=None\n",
    "        self.rented_bike_amount=None\n",
    "        self.bike_payment=None\n",
    "        self.final_amount=None\n",
    "        self.bike_id=1\n",
    "        self.bike_rent_data={}\n",
    "#customer details: \n",
    "        self.name=None\n",
    "        self.state=None\n",
    "        self.contact=None\n",
    "\n",
    "# -------------------------------------------------------------------------------------------------------------------------------------------------------------\n",
    "\n",
    "    def bike_id(self):\n",
    "        self.bike_rent_id = str(date.today()).replace(\"-\",\"\")+str(\"Pulsur\")+str(self.new_id)\n",
    "        self.bike_id+=1\n",
    "        self.new_id=str(self.bike_id)\n",
    "        print(\"Bike ID is\",self.bike_rent_id)\n",
    "    \n",
    "    def display_stock(self):\n",
    "        print(\"Available Bike Stock\",self.stock)\n",
    "    def bike_rent(self):\n",
    "        self.bike=int(input(\"Enter Bike You Want to Rent\"))\n",
    "        self.days=int(input(\"Enter day for rent\"))\n",
    "        if self.bike<0:\n",
    "            print(\"enter the positive number of greater than zero\")\n",
    "        elif self.bike>self.stock:\n",
    "            print(\"enter bike number is above the persent stock: \",self.stock)\n",
    "        else:\n",
    "            print(\"Bike Rent ID: \", self.bike_rent_id)\n",
    "            self.rented_bike_amount=self.bike*self.bike_price\n",
    "            print(self.bike,\"Bike Rent Amount\",self.bike*self.bike_price)\n",
    "            self.bike_payment=self.days*(self.bike*self.bike_price)\n",
    "            print(self.days,\"Days Bike Rent Amount\",self.days*(self.bike*self.bike_price))\n",
    "            print(\"\\nEnter your details for complete process.............\\n\")\n",
    "            self.customer_details()\n",
    "            self.stock= self.stock-self.bike\n",
    "\n",
    "    def customer_details(self):\n",
    "        self.name=input(\"enter your name\")\n",
    "        self.state=input(\"enter your state\")\n",
    "        self.contact=input(\"enter your contact details\")\n",
    "        self.aadhar_number=input(\"enter your aadhar number\")\n",
    "\n",
    "    def GST(self):\n",
    "        self.GST_amount=self.bike_payment*18/100\n",
    "        self.final_amount=self.bike_payment+self.GST_amount\n",
    "    \n",
    "\n",
    "    def customer_invoice(self):\n",
    "        print(\"Rent ID: \",self.bike_rent_id)\n",
    "        print(\"Total Rented Bikes:\",self.bike)\n",
    "        print(\"Bike Rented for\",self.days,\"Days\")\n",
    "        print(\"1 Bike Price:\",self.bike_price)\n",
    "        print(\"Total Payment\",self.final_bike_payment,\"Rs.\")\n",
    "        print(\"Renter Name\",self.name)\n",
    "        print(\"Renter State\",self.state)\n",
    "        print(\"Renter Contact Number\",self.contact)\n",
    "        print(\"GST on Rented Bike\",self.GST_amount)\n",
    "        print(\"Payable Amount\",self.final_amount)\n",
    "\n",
    "obj=Bike_Shop()     \n",
    "while True:\n",
    "    c=int(input(\"\"\"\n",
    "        1. Check stock\n",
    "        2. Bike on rent\n",
    "        3. customer invoice\n",
    "        4. Exit\n",
    "        \"\"\"))\n",
    "    if c==1:\n",
    "        obj.display_stock()\n",
    "    elif c==2:\n",
    "        obj.bike_rent()\n",
    "    elif c==3:\n",
    "        obj.customer_invoice\n",
    "    else:\n",
    "        print(\"Exit\")\n",
    "        break\n"
   ]
  },
  {
   "cell_type": "markdown",
   "id": "6a26146c-121c-41f3-ac42-4f1bde36a874",
   "metadata": {
    "jp-MarkdownHeadingCollapsed": true
   },
   "source": [
    "# Task Solution"
   ]
  },
  {
   "cell_type": "code",
   "execution_count": 43,
   "id": "1b70370a-e5c7-41a3-bac9-5768e4d85778",
   "metadata": {},
   "outputs": [
    {
     "name": "stdout",
     "output_type": "stream",
     "text": [
      "6480.0\n"
     ]
    }
   ],
   "source": [
    "k=36000\n",
    "amount=k*18/100\n",
    "print(amount)"
   ]
  },
  {
   "cell_type": "code",
   "execution_count": 76,
   "id": "b1d145bf-9171-4116-98a6-c39e80e27936",
   "metadata": {},
   "outputs": [
    {
     "name": "stdin",
     "output_type": "stream",
     "text": [
      "enter name nishant\n"
     ]
    },
    {
     "name": "stdout",
     "output_type": "stream",
     "text": [
      "nishant\n"
     ]
    }
   ],
   "source": [
    "name=input(\"enter name\")\n",
    "print(name)"
   ]
  },
  {
   "cell_type": "code",
   "execution_count": 77,
   "id": "0a558e92-4cc2-449c-aa80-840eca77585d",
   "metadata": {},
   "outputs": [
    {
     "name": "stdin",
     "output_type": "stream",
     "text": [
      "choose any bikes from the menu\n",
      "1. Bullet 350\n",
      "2. TVS\n",
      "3. Pulsar\n",
      "4. Rajdoot\n",
      "5. Hero Honda       \n",
      " TVS\n"
     ]
    },
    {
     "name": "stdout",
     "output_type": "stream",
     "text": [
      "800\n"
     ]
    }
   ],
   "source": [
    "# check available bike and show rent amount of 1 bike\n",
    "bike_charges=\"\"\n",
    "bike_price=\"\"\n",
    "available_bike={\n",
    "    \"Bullet\":1000, \"TVS\":800,\n",
    "    \"Pulsar\":700, \"Rajdoot\": 700,\"Hero Honda\":600 }\n",
    "choose_bike=input(\"\"\"choose any bikes from the menu\n",
    "1. Bullet 350\n",
    "2. TVS\n",
    "3. Pulsar\n",
    "4. Rajdoot\n",
    "5. Hero Honda       \n",
    "\"\"\")\n",
    "if choose_bike in available_bike.keys():        \n",
    "    bike_price=available_bike[choose_bike]\n",
    "else:\n",
    "    print(\"wrong choice\")\n",
    "print(bike_price)\n"
   ]
  },
  {
   "cell_type": "code",
   "execution_count": 78,
   "id": "35d55e8d-b2c5-4485-bcd8-c9b556d3488c",
   "metadata": {},
   "outputs": [
    {
     "name": "stdin",
     "output_type": "stream",
     "text": [
      "choose any bikes from the menu\n",
      "1. Bullet 350\n",
      "2. TVS\n",
      "3. Pulsar\n",
      "4. Rajdoot\n",
      "5. Hero Honda       \n",
      " Pulsar\n"
     ]
    },
    {
     "name": "stdout",
     "output_type": "stream",
     "text": [
      "700\n"
     ]
    }
   ],
   "source": [
    "bike_charges=\"\"\n",
    "bike_price=\"\"\n",
    "available_bike={\n",
    "    \"Bullet\":1000, \"TVS\":800,\n",
    "    \"Pulsar\":700, \"Rajdoot\": 700,\"Hero Honda\":600 }\n",
    "choose_bike=input(\"\"\"choose any bikes from the menu\n",
    "1. Bullet 350\n",
    "2. TVS\n",
    "3. Pulsar\n",
    "4. Rajdoot\n",
    "5. Hero Honda       \n",
    "\"\"\")\n",
    "if choose_bike in available_bike.keys():        \n",
    "    bike_price=available_bike[choose_bike]\n",
    "else:\n",
    "    print(\"wrong choice\")\n",
    "print(bike_price)\n"
   ]
  },
  {
   "cell_type": "code",
   "execution_count": 79,
   "id": "a7eb7200-73c1-426d-8865-3cc11604c37f",
   "metadata": {},
   "outputs": [
    {
     "data": {
      "text/plain": [
       "'2024-07-19'"
      ]
     },
     "execution_count": 79,
     "metadata": {},
     "output_type": "execute_result"
    }
   ],
   "source": [
    "str(date.today())"
   ]
  },
  {
   "cell_type": "code",
   "execution_count": 2,
   "id": "10fdaa10-446f-49f0-a29f-96f3cace57a7",
   "metadata": {},
   "outputs": [
    {
     "name": "stdin",
     "output_type": "stream",
     "text": [
      "enter your name nishant\n",
      "enter your state delhi\n",
      "enter your contact details 9654546020\n"
     ]
    },
    {
     "name": "stdout",
     "output_type": "stream",
     "text": [
      "\n"
     ]
    }
   ],
   "source": [
    "# data store in customer\n",
    "customer = {}\n",
    "customer['name'] = input(\"enter your name\")\n",
    "customer['state'] = input(\"enter your state\")\n",
    "customer['contact'] = input(\"enter your contact details\")\n",
    "print()"
   ]
  },
  {
   "cell_type": "code",
   "execution_count": 3,
   "id": "9423f3bc-1cf0-4d68-b27d-207ebe324fb8",
   "metadata": {},
   "outputs": [
    {
     "data": {
      "text/plain": [
       "'nishant'"
      ]
     },
     "execution_count": 3,
     "metadata": {},
     "output_type": "execute_result"
    }
   ],
   "source": [
    "customer['name']"
   ]
  },
  {
   "cell_type": "code",
   "execution_count": 4,
   "id": "340654fa-5330-40cb-8808-13a6e2c76bed",
   "metadata": {},
   "outputs": [
    {
     "data": {
      "text/plain": [
       "'NISHANT'"
      ]
     },
     "execution_count": 4,
     "metadata": {},
     "output_type": "execute_result"
    }
   ],
   "source": [
    "customer['name'].upper()"
   ]
  },
  {
   "cell_type": "code",
   "execution_count": 5,
   "id": "1c444857-f73f-4c3e-8f73-bbf07ef8ff42",
   "metadata": {},
   "outputs": [
    {
     "data": {
      "text/plain": [
       "'NISH'"
      ]
     },
     "execution_count": 5,
     "metadata": {},
     "output_type": "execute_result"
    }
   ],
   "source": [
    "customer['name'][:4].upper()"
   ]
  },
  {
   "cell_type": "code",
   "execution_count": 6,
   "id": "0b6053bb-0bb4-4d83-97aa-3352bdbe51e3",
   "metadata": {},
   "outputs": [
    {
     "name": "stdout",
     "output_type": "stream",
     "text": [
      "{'name': 'nishant', 'state': 'delhi', 'contact': '9654546020'}\n"
     ]
    }
   ],
   "source": [
    "print(customer)"
   ]
  },
  {
   "cell_type": "code",
   "execution_count": 7,
   "id": "91301a85-6641-453e-af4f-8015d8a93c23",
   "metadata": {},
   "outputs": [
    {
     "name": "stdin",
     "output_type": "stream",
     "text": [
      "enter bike id BK-001\n"
     ]
    },
    {
     "name": "stdout",
     "output_type": "stream",
     "text": [
      "{'BK-001': {'name': 'nishant', 'state': 'delhi', 'contact': '9654546020'}}\n"
     ]
    }
   ],
   "source": [
    "# customer data store in customer details with bike id\n",
    "customer_details={}\n",
    "bike_rent_id=input(\"enter bike id\")\n",
    "customer_details[bike_rent_id] = customer\n",
    "print(customer_details)"
   ]
  },
  {
   "cell_type": "code",
   "execution_count": 8,
   "id": "e1f816eb-486c-48cb-a63e-b460d74ab256",
   "metadata": {},
   "outputs": [
    {
     "name": "stdout",
     "output_type": "stream",
     "text": [
      "{'BK-001': {'name': 'nishant', 'state': 'delhi', 'contact': '9654546020'}}\n"
     ]
    }
   ],
   "source": [
    "print(customer_details)"
   ]
  },
  {
   "cell_type": "code",
   "execution_count": 9,
   "id": "d451910e-2ccb-4e72-b86c-7cb1cdee1179",
   "metadata": {},
   "outputs": [
    {
     "name": "stdout",
     "output_type": "stream",
     "text": [
      "Bike ID:  BK-001\n",
      "Renter Name nishant\n",
      "Renter State delhi\n",
      "Renter Contact Number 9654546020\n"
     ]
    }
   ],
   "source": [
    "# check all customer data on the basis of bike id\n",
    "for bike_id, customer in customer_details.items():\n",
    "    print(\"Bike ID: \", bike_id)\n",
    "    print(\"Renter Name\", customer['name'])\n",
    "    print(\"Renter State\", customer['state'])\n",
    "    print(\"Renter Contact Number\", customer['contact'])"
   ]
  },
  {
   "cell_type": "code",
   "execution_count": null,
   "id": "171b3fa5-ea3b-48e1-b44f-ed5d80aa9fe7",
   "metadata": {},
   "outputs": [],
   "source": []
  },
  {
   "cell_type": "code",
   "execution_count": 13,
   "id": "63f36025-fbee-451c-b3d6-e092e0759aad",
   "metadata": {},
   "outputs": [
    {
     "name": "stdin",
     "output_type": "stream",
     "text": [
      "Enter customer ID:  BK-001\n",
      "enter your name Niku\n"
     ]
    }
   ],
   "source": [
    "cust_ID = input(\"Enter customer ID: \")\n",
    "if cust_ID in customer_details.keys():\n",
    "    customer_details[cust_ID][\"name\"]=input(\"enter your name\")\n"
   ]
  },
  {
   "cell_type": "code",
   "execution_count": 14,
   "id": "00101aee-a325-4af8-b78c-2cacde58f0ab",
   "metadata": {},
   "outputs": [
    {
     "name": "stdout",
     "output_type": "stream",
     "text": [
      "{'BK-001': {'name': 'Niku', 'state': 'delhi', 'contact': '9654546020', 'Name': 'niku'}}\n"
     ]
    }
   ],
   "source": [
    "print(customer_details)"
   ]
  },
  {
   "cell_type": "code",
   "execution_count": null,
   "id": "12c83718-4668-4710-b530-f819993543c2",
   "metadata": {},
   "outputs": [],
   "source": []
  },
  {
   "cell_type": "code",
   "execution_count": null,
   "id": "977bb5eb-f674-4f1a-bbac-e1ac33aeb27f",
   "metadata": {},
   "outputs": [],
   "source": []
  },
  {
   "cell_type": "code",
   "execution_count": null,
   "id": "3893a0e3-c8c5-4c7a-b0dc-be52cfaa100c",
   "metadata": {},
   "outputs": [],
   "source": []
  },
  {
   "cell_type": "markdown",
   "id": "14550000-440c-4d17-9c7a-c59d16d4ee32",
   "metadata": {},
   "source": [
    "# final code"
   ]
  },
  {
   "cell_type": "code",
   "execution_count": 3,
   "id": "f774b699-7a02-4a20-ae7c-0a911ae02647",
   "metadata": {},
   "outputs": [
    {
     "name": "stdout",
     "output_type": "stream",
     "text": [
      "\n",
      "welcome to bike shop\n",
      "\n"
     ]
    },
    {
     "name": "stdin",
     "output_type": "stream",
     "text": [
      " \n",
      "    1. Check stock \n",
      "    2. Bike on rent \n",
      "    3. customer invoice \n",
      "    4. All Renter Details \n",
      "    5. All customer invoice\n",
      "    6. Exit \n",
      "     1\n"
     ]
    },
    {
     "name": "stdout",
     "output_type": "stream",
     "text": [
      "Available Bike Stock 120\n"
     ]
    },
    {
     "name": "stdin",
     "output_type": "stream",
     "text": [
      " \n",
      "    1. Check stock \n",
      "    2. Bike on rent \n",
      "    3. customer invoice \n",
      "    4. All Renter Details \n",
      "    5. All customer invoice\n",
      "    6. Exit \n",
      "     2\n",
      "enter your name Nishant\n",
      "enter your state delhi\n",
      "enter your contact details 9654546020\n",
      "choose any bikes from the menu: \n",
      "        1. bullet \n",
      "        2. tvs \n",
      "        3. pulsar \n",
      "        4. rajdoot \n",
      "        5. hero honda \n",
      "        \n",
      "         bullet\n",
      "Enter Bike You Want to Rent 2\n",
      "Enter day for rent 3\n"
     ]
    },
    {
     "name": "stdout",
     "output_type": "stream",
     "text": [
      "Bike Rent ID:  2024-09-26bullet-NISH-2-3\n",
      "2 Bike Rent Amount 2000\n",
      "3 Days Bike Rent Amount 6000\n",
      "GST on Bike Rent  1080.0\n"
     ]
    },
    {
     "name": "stdin",
     "output_type": "stream",
     "text": [
      " \n",
      "    1. Check stock \n",
      "    2. Bike on rent \n",
      "    3. customer invoice \n",
      "    4. All Renter Details \n",
      "    5. All customer invoice\n",
      "    6. Exit \n",
      "     4\n"
     ]
    },
    {
     "name": "stdout",
     "output_type": "stream",
     "text": [
      "Bike ID:  2024-09-26bullet-NISH-2-3\n",
      "Renter Name Nishant\n",
      "Renter State delhi\n",
      "Renter Contact Number 9654546020\n",
      "------------------------\n"
     ]
    },
    {
     "name": "stdin",
     "output_type": "stream",
     "text": [
      " \n",
      "    1. Check stock \n",
      "    2. Bike on rent \n",
      "    3. customer invoice \n",
      "    4. All Renter Details \n",
      "    5. All customer invoice\n",
      "    6. Exit \n",
      "     5\n"
     ]
    },
    {
     "name": "stdout",
     "output_type": "stream",
     "text": [
      "0 Bike ID:  2024-09-26bullet-NISH-2-3\n",
      "------------------------\n"
     ]
    },
    {
     "name": "stdin",
     "output_type": "stream",
     "text": [
      " \n",
      "    1. Check stock \n",
      "    2. Bike on rent \n",
      "    3. customer invoice \n",
      "    4. All Renter Details \n",
      "    5. All customer invoice\n",
      "    6. Exit \n",
      "     3\n"
     ]
    },
    {
     "name": "stdout",
     "output_type": "stream",
     "text": [
      "\n",
      "             Bike on Rent shop \n",
      "        ..........Invoice..........\n",
      "        \n",
      "        \n",
      "Bike Rent Date 2024-09-26\n",
      "Customer ID:  2024-09-26bullet-NISH-2-3\n",
      "Rented Bike: bullet\n",
      "Customer Name: Nishant\n",
      "Customer State: delhi\n",
      "Customer Contact Number: 9654546020\n",
      "\n",
      "..........Payment Details..........\n",
      "\n",
      "Rented Bikes: 2\n",
      "Nishant  Bike Rented for 3 Days\n",
      "1 Bike Price: 1000\n",
      "3 Days Total Payment 6000 Rs.\n",
      "GST on Rented Bike 1080.0\n",
      "\n",
      "Payable Amount 7080.0\n"
     ]
    },
    {
     "name": "stdin",
     "output_type": "stream",
     "text": [
      " \n",
      "    1. Check stock \n",
      "    2. Bike on rent \n",
      "    3. customer invoice \n",
      "    4. All Renter Details \n",
      "    5. All customer invoice\n",
      "    6. Exit \n",
      "     6\n"
     ]
    },
    {
     "name": "stdout",
     "output_type": "stream",
     "text": [
      "Exit\n",
      "------------------------\n"
     ]
    }
   ],
   "source": [
    "from datetime import date\n",
    "#--------------------------------------------------Data Store-------------------------------------------------------------------------------------------------\n",
    "class Bike_Shop:\n",
    "    def __init__(self):\n",
    "        print(\"\\nwelcome to bike shop\\n\")\n",
    "        self.stock = 120\n",
    "        self.bike_price = None\n",
    "        self.bike_rent_id = None\n",
    "        self.bike = None\n",
    "        self.days = None\n",
    "        self.rented_bike_amount = None\n",
    "        self.bike_payment = None\n",
    "        self.final_amount = None\n",
    "        self.bike_choice = None\n",
    "        # self.bike_rent_data = {}\n",
    "        self.customer_details = {}\n",
    "        self.count=1\n",
    "        self.date=str(date.today())\n",
    "#---------------------------------------------------------------------------------------------------------------------------------------------------\n",
    "    def bike_id(self,customer):\n",
    "        self.bike_rent_id = str(date.today()) + self.bike_choice+\"-\"+customer[\"name\"][:4].upper()+\"-\"+str(self.bike)+\"-\"+str(self.days)\n",
    "\n",
    "    def display_stock(self):\n",
    "        print(\"Available Bike Stock\", self.stock)\n",
    "#--------------------------------------------------------Store customer details-------------------------------------------------------------------------------------------\n",
    "    def customer_details_info(self):\n",
    "        customer = {}\n",
    "        customer['name'] = input(\"enter your name\")\n",
    "        customer['state'] = input(\"enter your state\")\n",
    "        customer['contact'] = input(\"enter your contact details\")\n",
    "        self.bike_charges(customer)\n",
    "        self.customer_details[self.bike_rent_id] = customer # store all customer data into customer details\n",
    "#--------------------------------------------------------Bike & Charges-------------------------------------------------------------------------------------------\n",
    "    def bike_charges(self,customer):\n",
    "        available_bike = {\n",
    "            \"bullet\": 1000,\n",
    "            \"tvs\": 800,\n",
    "            \"pulsar\": 700,\n",
    "            \"rajdoot\": 700,\n",
    "            \"hero honda\": 600\n",
    "        }\n",
    "        choose_bike = input(\"\"\"choose any bikes from the menu: \n",
    "        1. bullet \n",
    "        2. tvs \n",
    "        3. pulsar \n",
    "        4. rajdoot \n",
    "        5. hero honda \n",
    "        \n",
    "        \"\"\").lower()\n",
    "        if choose_bike in available_bike.keys():\n",
    "            self.bike_price = available_bike[choose_bike]\n",
    "            self.bike_choice = choose_bike\n",
    "            self.bike_rent(customer)\n",
    "        else:\n",
    "            print(\"wrong choice\")\n",
    "            self.bike_charges(customer)\n",
    "#--------------------------------------------------------Bike rents-------------------------------------------------------------------------------------------\n",
    "\n",
    "    def bike_rent(self,customer):\n",
    "        self.bike = int(input(\"Enter Bike You Want to Rent\"))\n",
    "        self.days = int(input(\"Enter day for rent\"))\n",
    "        self.bike_id(customer)\n",
    "        if self.bike < 0:\n",
    "            print(\"enter the positive number of greater than zero\")\n",
    "        elif self.bike > self.stock:\n",
    "            print(\"enter bike number is above the present stock: \", self.stock)\n",
    "        else:\n",
    "            print(\"Bike Rent ID: \", self.bike_rent_id)\n",
    "            self.rented_bike_amount = self.bike * self.bike_price\n",
    "            print(self.bike, \"Bike Rent Amount\", self.bike * self.bike_price)\n",
    "            self.bike_payment = self.days * (self.bike * self.bike_price)\n",
    "            print(self.days, \"Days Bike Rent Amount\", self.days * (self.bike * self.bike_price))\n",
    "            self.GST_amount = self.bike_payment * 18 / 100\n",
    "            print(\"GST on Bike Rent \",self.GST_amount)\n",
    "            self.GST()\n",
    "            self.stock = self.stock - self.bike\n",
    "#--------------------------------------------------------GST on Rent amount-------------------------------------------------------------------------------------------\n",
    "\n",
    "    def GST(self):\n",
    "        self.GST_amount = self.bike_payment * 18 / 100\n",
    "        self.final_amount = self.bike_payment + self.GST_amount\n",
    "        \n",
    "#--------------------------------------------------------Invoice -------------------------------------------------------------------------------------------\n",
    "\n",
    "    def customer_invoice(self):\n",
    "        print(\"\"\"\n",
    "             Bike on Rent shop \n",
    "        ..........Invoice..........\n",
    "        \n",
    "        \"\"\")\n",
    "        print(\"Bike Rent Date\",self.date)\n",
    "        print(\"Customer ID: \", self.bike_rent_id)\n",
    "        print(\"Rented Bike:\", self.bike_choice)\n",
    "        print(\"Customer Name:\", self.customer_details[self.bike_rent_id]['name'])\n",
    "        print(\"Customer State:\", self.customer_details[self.bike_rent_id]['state'])\n",
    "        print(\"Customer Contact Number:\", self.customer_details[self.bike_rent_id]['contact'])\n",
    "        print(\"\\n..........Payment Details..........\\n\")\n",
    "        print(\"Rented Bikes:\", self.bike)\n",
    "        print(self.customer_details[self.bike_rent_id]['name'],\" Bike Rented for\", self.days, \"Days\")\n",
    "        print(\"1 Bike Price:\", self.bike_price)\n",
    "        print(self.days,\"Days Total Payment\", self.days * (self.bike * self.bike_price), \"Rs.\")\n",
    "        print(\"GST on Rented Bike\", self.GST_amount)\n",
    "        print(\"\\nPayable Amount\", self.final_amount)\n",
    "\n",
    "#--------------------------------------------------------All customer data-------------------------------------------------------------------------------------------\n",
    "\n",
    "    def show_all_renters(self):\n",
    "        for bike_id, customer in self.customer_details.items():\n",
    "\n",
    "            print(\"Bike ID: \", bike_id)\n",
    "            print(\"Renter Name\", customer['name'])\n",
    "            print(\"Renter State\", customer['state'])\n",
    "            print(\"Renter Contact Number\", customer['contact'])\n",
    "            print(\"------------------------\")\n",
    "\n",
    "    def show_bike_invoice(self):\n",
    "        for serial_no,bike_id in enumerate(self.customer_details):\n",
    "            print(serial_no,\"Bike ID: \", bike_id)\n",
    "            print(\"------------------------\")\n",
    "\n",
    "#--------------------------------------------------------Access panel-------------------------------------------------------------------------------------------\n",
    "\n",
    "k = Bike_Shop()\n",
    "while True:\n",
    "    c = int(input(\"\"\" \n",
    "    1. Check stock \n",
    "    2. Bike on rent \n",
    "    3. customer invoice \n",
    "    4. All Renter Details \n",
    "    5. All customer invoice\n",
    "    6. Exit \n",
    "    \"\"\"))\n",
    "    if c == 1:\n",
    "        k.display_stock()\n",
    "    elif c == 2:\n",
    "        k.customer_details_info()\n",
    "    elif c == 3:\n",
    "        k.customer_invoice()\n",
    "    elif c == 4:\n",
    "        k.show_all_renters()\n",
    "    elif c==5:\n",
    "        k.show_bike_invoice()\n",
    "    elif c == 6:\n",
    "        print(\"Exit\\n------------------------\")\n",
    "        break\n",
    "    else:\n",
    "        print(\"wrong choice\")"
   ]
  },
  {
   "cell_type": "code",
   "execution_count": null,
   "id": "01183065-ac05-42d3-a8cc-5c2f7f45bb5f",
   "metadata": {},
   "outputs": [],
   "source": []
  },
  {
   "cell_type": "code",
   "execution_count": null,
   "id": "afbcf488-d172-4565-a0ce-cd4262da2ec5",
   "metadata": {},
   "outputs": [],
   "source": []
  }
 ],
 "metadata": {
  "kernelspec": {
   "display_name": "Python 3 (ipykernel)",
   "language": "python",
   "name": "python3"
  },
  "language_info": {
   "codemirror_mode": {
    "name": "ipython",
    "version": 3
   },
   "file_extension": ".py",
   "mimetype": "text/x-python",
   "name": "python",
   "nbconvert_exporter": "python",
   "pygments_lexer": "ipython3",
   "version": "3.11.7"
  },
  "widgets": {
   "application/vnd.jupyter.widget-state+json": {
    "state": {},
    "version_major": 2,
    "version_minor": 0
   }
  }
 },
 "nbformat": 4,
 "nbformat_minor": 5
}
