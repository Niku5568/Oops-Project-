{
 "cells": [
  {
   "cell_type": "raw",
   "id": "f9ef677f-768d-42fc-a7ab-5117a0580ed8",
   "metadata": {},
   "source": [
    "required infromation for crating ATM machine\n",
    "\n",
    "1. balance\n",
    "2. ATM PIN\n",
    "\n",
    "feature of ATM machine:\n",
    "\n",
    "1. change pin\n",
    "2. withdraw money\n",
    "3. check balane\n",
    "4. set pin first time user\n",
    "\n",
    "\n",
    "\n",
    "rule to create variable:\n",
    "\n",
    "rule 1. always create variable inside the constructor\n",
    "rule 2. always use \"self.\" before the variable name than give value or leave it as None like: self.balance=None, self.balance=0, self.balance=\"\"  \n",
    "\n",
    "SBI=ATM()\n",
    "SBI.Balance()\n",
    "SBI.PIN()\n",
    "object can access the things that are present inside the class"
   ]
  },
  {
   "cell_type": "code",
   "execution_count": 38,
   "id": "7ae50f52-4ff7-4c6e-bb7b-b6d0ff424933",
   "metadata": {},
   "outputs": [
    {
     "name": "stdout",
     "output_type": "stream",
     "text": [
      "Welcome to SBI ATM\n"
     ]
    },
    {
     "name": "stdin",
     "output_type": "stream",
     "text": [
      "\n",
      "        Hii How can i help you?\n",
      "        1. Press 1 for Create Pin\n",
      "        2. Press 2 for Change Pin\n",
      "        3. Press 3 for Withdraw Amount\n",
      "        4. press 4 for Check Balance\n",
      "        5. Anything else for Exit\n",
      "         1\n",
      "enter your pin 1111\n",
      "enter balance on your account 12000\n"
     ]
    },
    {
     "name": "stdout",
     "output_type": "stream",
     "text": [
      "Pin created successfully\n"
     ]
    },
    {
     "name": "stdin",
     "output_type": "stream",
     "text": [
      "\n",
      "        Hii How can i help you?\n",
      "        1. Press 1 for Create Pin\n",
      "        2. Press 2 for Change Pin\n",
      "        3. Press 3 for Withdraw Amount\n",
      "        4. press 4 for Check Balance\n",
      "        5. Anything else for Exit\n",
      "         3\n",
      "enter your pin again 1111\n",
      "enter withdraw amount 15000\n"
     ]
    },
    {
     "name": "stdout",
     "output_type": "stream",
     "text": [
      "12000 Rs. low balance\n"
     ]
    },
    {
     "name": "stdin",
     "output_type": "stream",
     "text": [
      "\n",
      "        Hii How can i help you?\n",
      "        1. Press 1 for Create Pin\n",
      "        2. Press 2 for Change Pin\n",
      "        3. Press 3 for Withdraw Amount\n",
      "        4. press 4 for Check Balance\n",
      "        5. Anything else for Exit\n",
      "         3\n",
      "enter your pin again 1111\n",
      "enter withdraw amount 12000\n"
     ]
    },
    {
     "name": "stdout",
     "output_type": "stream",
     "text": [
      "Withdraw amount 12000 current balance:  0 Rs.\n"
     ]
    },
    {
     "name": "stdin",
     "output_type": "stream",
     "text": [
      "\n",
      "        Hii How can i help you?\n",
      "        1. Press 1 for Create Pin\n",
      "        2. Press 2 for Change Pin\n",
      "        3. Press 3 for Withdraw Amount\n",
      "        4. press 4 for Check Balance\n",
      "        5. Anything else for Exit\n",
      "         5\n"
     ]
    },
    {
     "name": "stdout",
     "output_type": "stream",
     "text": [
      "Exit.............\n"
     ]
    }
   ],
   "source": [
    "class ATM:\n",
    "    def __init__(self): # this is consturctor\n",
    "        print(\"Welcome to SBI ATM\")\n",
    "        self.balance=0 # variable under the constructor\n",
    "        self.PIN=0\n",
    "        self.menu()\n",
    "\n",
    "    def menu(self):\n",
    "        user_input=input(\"\"\"\n",
    "        Hii How can i help you?\n",
    "        1. Press 1 for Create Pin\n",
    "        2. Press 2 for Change Pin\n",
    "        3. Press 3 for Withdraw Amount\n",
    "        4. press 4 for Check Balance\n",
    "        5. Anything else for Exit\n",
    "        \"\"\")\n",
    "        if user_input==\"1\":\n",
    "            self.Create_pin()\n",
    "        elif user_input==\"2\":\n",
    "            self.Pin_change()\n",
    "        elif user_input==\"3\":\n",
    "            self.withdraw()\n",
    "        elif user_input==\"4\":\n",
    "            self.check_balance()\n",
    "        else:\n",
    "            print(\"Exit.............\")\n",
    "\n",
    "    def Create_pin(self):\n",
    "        pin=int(input(\"enter your pin\"))\n",
    "        self.PIN=pin\n",
    "        self.balance=int(input(\"enter balance on your account\"))\n",
    "        print(\"Pin created successfully\")\n",
    "        self.menu()\n",
    "\n",
    "    def Pin_change(self):\n",
    "        old_pin=int(input(\"enter your old pin\"))\n",
    "        if old_pin==self.PIN:\n",
    "            new_pin=int(input(\"enter your new pin\"))\n",
    "            self.PIN=new_pin\n",
    "            print(\"PIN changed successfully\")\n",
    "            self.menu()\n",
    "        else:\n",
    "            print(\"Pin not matched\")\n",
    "            self.menu()\n",
    "       \n",
    "    def withdraw(self):\n",
    "        pin=int(input(\"enter your pin again\"))\n",
    "        if pin==self.PIN:\n",
    "            amount=int(input(\"enter withdraw amount\"))\n",
    "            if self.balance<0:\n",
    "                print(\"insufficent amaount\")\n",
    "                self.menu()\n",
    "            elif self.balance<amount:\n",
    "                print(self.balance,\"Rs. low balance\")\n",
    "                self.menu()\n",
    "            else:         \n",
    "                self.balance= self.balance-amount\n",
    "                print(\"Withdraw amount\", amount, \"\\ncurrent balance: \", self.balance,\"Rs.\")\n",
    "                self.menu()\n",
    "        else:\n",
    "            print(\"Pin not matched\")\n",
    "            self.menu()\n",
    "       \n",
    "    def check_balance(self):\n",
    "        pin=int(input(\"enter your pin again\"))\n",
    "        if pin==self.PIN:\n",
    "            print(\"current balace:\", self.balance,\"Rs.\")\n",
    "            self.menu()\n",
    "        else:\n",
    "            print(\"Pin not matched\")\n",
    "            self.menu()\n",
    "\n",
    "\n",
    "SBI=ATM()"
   ]
  },
  {
   "cell_type": "code",
   "execution_count": null,
   "id": "6b1d6cdf-b631-4754-9a21-69eef317643e",
   "metadata": {},
   "outputs": [],
   "source": []
  }
 ],
 "metadata": {
  "kernelspec": {
   "display_name": "Python 3 (ipykernel)",
   "language": "python",
   "name": "python3"
  },
  "language_info": {
   "codemirror_mode": {
    "name": "ipython",
    "version": 3
   },
   "file_extension": ".py",
   "mimetype": "text/x-python",
   "name": "python",
   "nbconvert_exporter": "python",
   "pygments_lexer": "ipython3",
   "version": "3.11.7"
  },
  "widgets": {
   "application/vnd.jupyter.widget-state+json": {
    "state": {},
    "version_major": 2,
    "version_minor": 0
   }
  }
 },
 "nbformat": 4,
 "nbformat_minor": 5
}
