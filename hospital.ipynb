{
 "cells": [
  {
   "cell_type": "markdown",
   "id": "65c2c503-9d25-4aba-af0e-6180311820ed",
   "metadata": {},
   "source": [
    "# HOSPITAL RECORD"
   ]
  },
  {
   "cell_type": "code",
   "execution_count": 10,
   "id": "b0d39583-154b-40bf-a3ef-069292da0fb5",
   "metadata": {},
   "outputs": [
    {
     "name": "stdout",
     "output_type": "stream",
     "text": [
      "Welcome to the BLK MAX Hospital\n",
      "\n",
      "\n",
      "    1 for add a new patient details \n",
      "    2 check to view the patient details \n",
      "    3 to edit the details of the patient\n",
      "    4 to view the details of the patients\n",
      "    5 exit\n",
      "    \n"
     ]
    },
    {
     "name": "stdin",
     "output_type": "stream",
     "text": [
      "Enter your Choice: 1\n",
      "Enter patient name: nishant\n",
      "Enter patient age: 26\n",
      "Enter mobile number: 9654546020\n",
      "Enter patient address: delhi\n",
      "Enter patient medical history: NA\n",
      "Enter patient_disease: fever\n",
      "Enter patient guardian: mother\n",
      "Enter patient refers to: daruwala\n",
      "Enter Checkup charges: 300\n"
     ]
    },
    {
     "name": "stdout",
     "output_type": "stream",
     "text": [
      "Patient ID NISH9654-2024-07-19\n",
      "\n",
      "    1 for add a new patient details \n",
      "    2 check to view the patient details \n",
      "    3 to edit the details of the patient\n",
      "    4 to view the details of the patients\n",
      "    5 exit\n",
      "    \n"
     ]
    },
    {
     "name": "stdin",
     "output_type": "stream",
     "text": [
      "Enter your Choice: 2\n"
     ]
    },
    {
     "name": "stdout",
     "output_type": "stream",
     "text": [
      "nishant Details\n",
      "Patient id : NISH9654-2024-07-19\n",
      "Patient name: nishant\n",
      "Patient age: 26\n",
      "Mobile number: 9654546020\n",
      "Patient address: delhi\n",
      "Patient medical history: NA\n",
      "Patient_disease: fever\n",
      "Patient guardian: mother\n",
      "Refers to Dr.: daruwala\n",
      "Checkup charges: 300\n",
      "\n",
      "    1 for add a new patient details \n",
      "    2 check to view the patient details \n",
      "    3 to edit the details of the patient\n",
      "    4 to view the details of the patients\n",
      "    5 exit\n",
      "    \n"
     ]
    },
    {
     "name": "stdin",
     "output_type": "stream",
     "text": [
      "Enter your Choice: 3\n",
      "which detail you want to edit. \n",
      "        1. Patient name \n",
      "        2. Age \n",
      "        3. Mobile \n",
      "        4. Address \n",
      "        5. Medical history \n",
      "        6. Disease \n",
      "        7. Guardian \n",
      "        8. Reffered Doctor  \n",
      "        9. Fees\n",
      "         2\n",
      "Enter age: 25\n"
     ]
    },
    {
     "name": "stdout",
     "output_type": "stream",
     "text": [
      "\n",
      "    1 for add a new patient details \n",
      "    2 check to view the patient details \n",
      "    3 to edit the details of the patient\n",
      "    4 to view the details of the patients\n",
      "    5 exit\n",
      "    \n"
     ]
    },
    {
     "name": "stdin",
     "output_type": "stream",
     "text": [
      "Enter your Choice: 2\n"
     ]
    },
    {
     "name": "stdout",
     "output_type": "stream",
     "text": [
      "nishant Details\n",
      "Patient id : NISH9654-2024-07-19\n",
      "Patient name: nishant\n",
      "Patient age: 26\n",
      "Mobile number: 9654546020\n",
      "Patient address: delhi\n",
      "Patient medical history: NA\n",
      "Patient_disease: fever\n",
      "Patient guardian: mother\n",
      "Refers to Dr.: daruwala\n",
      "Checkup charges: 300\n",
      "\n",
      "    1 for add a new patient details \n",
      "    2 check to view the patient details \n",
      "    3 to edit the details of the patient\n",
      "    4 to view the details of the patients\n",
      "    5 exit\n",
      "    \n"
     ]
    },
    {
     "name": "stdin",
     "output_type": "stream",
     "text": [
      "Enter your Choice: 5\n"
     ]
    },
    {
     "name": "stdout",
     "output_type": "stream",
     "text": [
      "Thanks for using this service.\n"
     ]
    }
   ],
   "source": [
    "from datetime import date\n",
    "class Hospital:\n",
    "    def __init__(self):\n",
    "        \n",
    "        print(\"Welcome to the BLK MAX Hospital\")\n",
    "\n",
    "        print()\n",
    "        self.__name = None\n",
    "        self.__age = None\n",
    "        self.__mobile = None\n",
    "        self.__address = None\n",
    "        self.__medical_history = None\n",
    "        self.__patient_disease = None\n",
    "        self.__guardian = None\n",
    "        self.__refers_to = None\n",
    "        self.__fees=0\n",
    "        self.patients_details = {}\n",
    "        self.customer_id = None\n",
    "        self.date=str(date.today())\n",
    "\n",
    "    \n",
    "    def patient_id(self,patient):\n",
    "        self.customer_id = patient['name'][:4].upper()+patient['mobile'][ : 4]+\"-\"+ str(date.today())\n",
    "        \n",
    "\n",
    "    def patient_info(self):\n",
    "        patient={} # store all patients details\n",
    "        patient['name']=input(\"Enter patient name:\") # detail store into patient\n",
    "        patient['age']=input(\"Enter patient age:\")\n",
    "        patient['mobile']=input(\"Enter mobile number:\")\n",
    "        patient['address']=input(\"Enter patient address:\")\n",
    "        patient['medical_history']=input(\"Enter patient medical history:\")\n",
    "        patient['patient_disease']=input(\"Enter patient_disease:\")\n",
    "        patient['guardian']=input(\"Enter patient guardian:\")\n",
    "        patient['refers_to']=input(\"Enter patient refers to:\")\n",
    "        patient['fees']=input(\"Enter Checkup charges:\")\n",
    "        self.patient_id(patient)   # calling patient id function\n",
    "        self.patients_details[self.customer_id]=patient # store patient data into patients_details ={}\n",
    "        print(\"Patient ID\", self.customer_id) # show patients id\n",
    "\n",
    "    def view(self):\n",
    "        print(self.patients_details[self.customer_id]['name'], \"Details\")  # call parent dictionary [ call customer id ] [call customer details]\n",
    "        print(\"Patient id :\",self.customer_id)\n",
    "        print(\"Patient name:\",self.patients_details[self.customer_id]['name'])\n",
    "        print(\"Patient age:\",self.patients_details[self.customer_id]['age'])\n",
    "        print(\"Mobile number:\",self.patients_details[self.customer_id]['mobile'])\n",
    "        print(\"Patient address:\",self.patients_details[self.customer_id]['address'])\n",
    "        print(\"Patient medical history:\",self.patients_details[self.customer_id]['medical_history'])\n",
    "        print(\"Patient_disease:\",self.patients_details[self.customer_id]['patient_disease'])\n",
    "        print(\"Patient guardian:\",self.patients_details[self.customer_id]['guardian'])\n",
    "        print(\"Refers to Dr.:\",self.patients_details[self.customer_id]['refers_to'])  \n",
    "        print(\"Checkup charges:\",self.patients_details[self.customer_id]['fees'])\n",
    "\n",
    "    def update(self):\n",
    "        patient = self.patients_details[self.customer_id]\n",
    "        edit=input(\"\"\"which detail you want to edit. \n",
    "        1. Patient name \n",
    "        2. Age \n",
    "        3. Mobile \n",
    "        4. Address \n",
    "        5. Medical history \n",
    "        6. Disease \n",
    "        7. Guardian \n",
    "        8. Reffered Doctor  \n",
    "        9. Fees\n",
    "        \"\"\")\n",
    "        if edit == \"1\":\n",
    "            patients_details[self.patient_id][\"name \"]=input(\"Enter patient name:\")\n",
    "        elif edit == \"2\":\n",
    "            patients_details[self.patient_id][\"age \"]=input(\"Enter age:\")\n",
    "        elif edit == \"3\":\n",
    "            patient[\"mobile \"]=input(\"Enter the mobile number:\")\n",
    "        elif edit ==\"4\":\n",
    "            patient[\"address \"]=input(\"enter the address\")\n",
    "        elif edit == \"5\":\n",
    "            patient[\"medical_history \"]=input(\"enter medical history:\")\n",
    "        elif edit == \"6\":\n",
    "            patient[\"Patient_disease \"]=input(\"enter the disease\")\n",
    "        elif edit== \"7\":\n",
    "            patient[\"guardian \"]=input(\"enter the guardian name:\")\n",
    "        elif edit == \"8\":\n",
    "            patient[\"refers_to \"]=input(\"enter new doctor name:\")\n",
    "        elif edit == \"9\":\n",
    "            patient[\"fees\"]=input(\"enter the charges\")\n",
    "\n",
    "vishal = Hospital()\n",
    "while True:\n",
    "    print(\"\"\"\n",
    "    1 for add a new patient details \n",
    "    2 check to view the patient details \n",
    "    3 to edit the details of the patient\n",
    "    4 to view the details of the patients\n",
    "    5 exit\n",
    "    \"\"\")\n",
    "    choice=int(input(\"Enter your Choice:\"))\n",
    "    if choice == 1:\n",
    "        vishal.patient_info()\n",
    "    elif choice == 2:\n",
    "        vishal.view()\n",
    "    elif choice == 3:\n",
    "        vishal.update()\n",
    "    elif choice == 4:\n",
    "        pass\n",
    "    elif choice == 5:\n",
    "        print(\"Thanks for using this service.\")\n",
    "        break    "
   ]
  },
  {
   "cell_type": "code",
   "execution_count": null,
   "id": "4cfff8f4-3bb6-48b3-991f-132e1a82dac7",
   "metadata": {},
   "outputs": [],
   "source": []
  }
 ],
 "metadata": {
  "kernelspec": {
   "display_name": "Python 3 (ipykernel)",
   "language": "python",
   "name": "python3"
  },
  "language_info": {
   "codemirror_mode": {
    "name": "ipython",
    "version": 3
   },
   "file_extension": ".py",
   "mimetype": "text/x-python",
   "name": "python",
   "nbconvert_exporter": "python",
   "pygments_lexer": "ipython3",
   "version": "3.11.7"
  },
  "widgets": {
   "application/vnd.jupyter.widget-state+json": {
    "state": {},
    "version_major": 2,
    "version_minor": 0
   }
  }
 },
 "nbformat": 4,
 "nbformat_minor": 5
}
