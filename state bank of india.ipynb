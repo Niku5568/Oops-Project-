{
 "cells": [
  {
   "cell_type": "markdown",
   "id": "e85fd1c6-e2e4-44f3-a95b-f8188ae27809",
   "metadata": {
    "jp-MarkdownHeadingCollapsed": true
   },
   "source": [
    "# testing file"
   ]
  },
  {
   "cell_type": "code",
   "execution_count": 3,
   "id": "0b9d2922-12cd-4158-b9e4-88af305c466c",
   "metadata": {},
   "outputs": [],
   "source": [
    "import numpy as np\n",
    "from datetime import date\n",
    "import getpass as g\n"
   ]
  },
  {
   "cell_type": "code",
   "execution_count": 8,
   "id": "680da5d8-9d12-4e77-b774-0347b3f5bce4",
   "metadata": {},
   "outputs": [
    {
     "ename": "NameError",
     "evalue": "name 'Customer' is not defined",
     "output_type": "error",
     "traceback": [
      "\u001b[1;31m---------------------------------------------------------------------------\u001b[0m",
      "\u001b[1;31mNameError\u001b[0m                                 Traceback (most recent call last)",
      "Cell \u001b[1;32mIn[8], line 4\u001b[0m\n\u001b[0;32m      2\u001b[0m \u001b[38;5;28;01mfrom\u001b[39;00m \u001b[38;5;21;01mdatetime\u001b[39;00m \u001b[38;5;28;01mimport\u001b[39;00m date\n\u001b[0;32m      3\u001b[0m \u001b[38;5;28;01mimport\u001b[39;00m \u001b[38;5;21;01mgetpass\u001b[39;00m \u001b[38;5;28;01mas\u001b[39;00m \u001b[38;5;21;01mg\u001b[39;00m\n\u001b[1;32m----> 4\u001b[0m \u001b[38;5;28;01mclass\u001b[39;00m \u001b[38;5;21;01mSBI_Login\u001b[39;00m(Customer):\n\u001b[0;32m      5\u001b[0m     \u001b[38;5;28;01mdef\u001b[39;00m \u001b[38;5;21m__init__\u001b[39m(\u001b[38;5;28mself\u001b[39m):\n\u001b[0;32m      6\u001b[0m         \u001b[38;5;28mself\u001b[39m\u001b[38;5;241m.\u001b[39mbank_login_id\u001b[38;5;241m=\u001b[39m\u001b[38;5;124m\"\u001b[39m\u001b[38;5;124mSBI001@gmail.com\u001b[39m\u001b[38;5;124m\"\u001b[39m\n",
      "\u001b[1;31mNameError\u001b[0m: name 'Customer' is not defined"
     ]
    }
   ],
   "source": [
    "import numpy as np\n",
    "from datetime import date\n",
    "import getpass as g\n",
    "class SBI_Login(Customer):\n",
    "    def __init__(self):\n",
    "        self.bank_login_id=\"SBI001@gmail.com\"\n",
    "        self.bank_password=0000\n",
    "        self.bank_SBI_amount=None\n",
    "        self.bank_customer=None\n",
    "    \n",
    "    def bank_option(self):\n",
    "        bank_option=input(\"\"\"\n",
    "        1: Show All Customer Data\n",
    "        2: Account Wise Details\n",
    "        3: Check Bank Deposit\n",
    "        4: Close Account \n",
    "        \"\"\")\n",
    "        if bank_option==\"1\":\n",
    "            self.All_Customer_Data()\n",
    "        elif bank_option==\"2\":\n",
    "            Customer.customer_Account_data()\n",
    "        elif bank_option==\"3\":\n",
    "            self.SBI_Bank_Balance()\n",
    "        elif bank_option==\"4\":\n",
    "            self.close_account()\n",
    "        else:\n",
    "            print(\"Wrong Choice\")\n",
    "\n",
    "    def SBI_Bank_Balance(self):\n",
    "        print(\"Current available balance in State bank of india: \", self.bank_SBI_amount)\n",
    "\n",
    "\n",
    "    def close_account(self):\n",
    "        Bank_login_id = input(\"Enter your customer ID: \")\n",
    "        Bank_login_pass = g.getpass(\"Enter your password: \")\n",
    "        if Bank_login_id == self.bank_login_id and Bank_login_pass == self.bank_password:\n",
    "            Del_Account_Number=input(\"Enter Account Number\")\n",
    "            del self.__customer_details[Del_Account_Number]\n",
    "            self.Customer_Account_Number = None\n",
    "            self.Customer_Account_Password = None\n",
    "            print(\"Account Has Been Closed Permanently........\")\n",
    "        else:\n",
    "            print(\"Details do not match.......\")   \n",
    "        \n",
    "\n",
    "#------------------------------------------------------------customer option -------------------------------------------------------------------------------------------------\n",
    "class Customer:\n",
    "    def __init_(self):\n",
    "        self.customer_data={}\n",
    "        self.Customer_Account_Number=None\n",
    "        self.Customer_Account_Password=None\n",
    "        self.Customer_Balance=None\n",
    "\n",
    "    def customer_option(self):\n",
    "        customer_choice=input(\"\"\" \n",
    "        1. Create Account\n",
    "        2. Login Account\n",
    "        3. Check Account Details\n",
    "        \"\"\")\n",
    "        if customer_choice==\"1\":\n",
    "            self.account_create()\n",
    "        elif customer_choice==\"2\":\n",
    "            self.customer_login()\n",
    "        elif customer_choice==\"3\":\n",
    "            self.customer_Account_data()\n",
    "        else:\n",
    "            print(\"Wrong Choice\")\n",
    "            \n",
    "    \n",
    "    def acc_number(self,customer):\n",
    "        self.Customer_Account_Number= customer[\"Name\"][:3].upper+\"-\"+str(np.random.randint(1000000,5000000))+\"-\"+str(date.today())\n",
    "\n",
    "    def account_create(self):\n",
    "        customer = {}\n",
    "        customer[\"Name\"] = input(\"Enter your Name: \")\n",
    "        customer[\"Age\"] = input(\"Enter your Age: \")\n",
    "        customer[\"Contact\"] = int(input(\"Enter your Contact Number: \"))\n",
    "        customer[\"Gender\"] = input(\"Enter your Gender: \")\n",
    "        customer[\"City\"] = input(\"Enter your City: \")\n",
    "        customer[\"Email\"] = input(\"enter your email id\")  \n",
    "        customer[\"Password\"]=input(\"enter your password\")\n",
    "        customer[\"Balance\"] =int(input(\"enter your opening balance ! min account balace: 10k\"))\n",
    "        self.acc_number(customer)\n",
    "        self.customer_data[self.Customer_Account_Number] = customer\n",
    "        self.Customer_Account_Password = customer[\"Password\"]\n",
    "        self.Customer_Balance=customer[\"Balance\"]\n",
    "        print(\"Your account has been create in State Bank of India\\n\\n\")\n",
    "        print(\"Customer Account Number\", self.Customer_Account_Number)\n",
    "        print(\"Customer Account Password:\", self.Customer_Account_Password,\"\\n\")\n",
    "    \n",
    "    def customer_login(self):\n",
    "        account_number=input(\"enter your account number\")\n",
    "        account_password=g.getpass(\"enter your password\")\n",
    "        if account_number == self.Customer_Account_Number and account_password==self.Customer_Account_Password:\n",
    "            customer_option=input(\"\"\"\n",
    "            1. Profile\n",
    "            2. Deposit\n",
    "            3. Withdraw\n",
    "            4. Check Balance\n",
    "            5. KYC Request\n",
    "            6. Change Password\n",
    "            \"\"\")\n",
    "            if customer_option==\"1\":\n",
    "                self.customer_Account_data()\n",
    "            elif customer_option==\"2\":\n",
    "                self.Deposit()\n",
    "            elif customer_option==\"3\":\n",
    "                self.Withdraw()\n",
    "            elif customer_option==\"4\":\n",
    "                self.customer_Account_Balance()\n",
    "            elif customer_option==\"5\":\n",
    "                self.customer_profile_KYC()\n",
    "            elif customer_option==\"6\":\n",
    "                pass\n",
    "\n",
    "    def customer_Account_data(self):\n",
    "        Account_Num = input(\"Enter customer ID: \")\n",
    "        if cust_ID in self.__customer_details.keys():\n",
    "            self.Customer_Account_Number = Account_Num\n",
    "            self.customer_profile()\n",
    "        else:\n",
    "            print(\"Customer ID Not Found\")\n",
    "\n",
    "    \n",
    "    def customer_profile(self):\n",
    "        print(\"!...........................................................................!\\n\")\n",
    "        print(self.customer_data[self.Customer_Account_Number][\"Name\"], \"Your Bank Details\")\n",
    "        print(\"Name\", self.customer_data[self.Customer_Account_Number][\"Name\"])\n",
    "        print(\"Account Number\", self.Customer_Account_Number)\n",
    "        print(\"Age\", self.customer_data[self.Customer_Account_Number][\"Age\"])\n",
    "        print(\"Contact\", self.customer_data[self.Customer_Account_Number][\"Contact\"])\n",
    "        print(\"Gender\", self.customer_data[self.Customer_Account_Number][\"Gender\"])\n",
    "        print(\"City\", self.customer_data[self.Customer_Account_Number][\"City\"])\n",
    "        print(\"Email\", self.customer_data[self.Customer_Account_Number][\"Email\"])\n",
    "        print(\"Password\", self.customer_data[self.Customer_Account_Number][\"Password\"])\n",
    "        print(\"!...........................................................................!\\n\")\n",
    "\n",
    "    def customer_profile_KYC(self):\n",
    "        KYC_Option=input(\"\"\"\n",
    "        1. Name\n",
    "        2. Age\n",
    "        3. City\n",
    "        4. Contact        \n",
    "        \"\"\")\n",
    "        if KYC_Option ==\"1\":          \n",
    "            self.customer_data[self.Customer_Account_Number][\"Name\"]=input(\"enter your name\")\n",
    "            print(self.customer_data[self.Customer_Account_Number][\"Name\"],\"Name has been updated.................\")\n",
    "        elif KYC_Option==\"2\":\n",
    "            self.customer_data[self.Customer_Account_Number][\"Age\"]=input(\"enter your age\")\n",
    "            print(self.customer_data[self.Customer_Account_Number][\"Age\"],\" Age has been updated.................\")\n",
    "\n",
    "        elif KYC_Option==\"3\":\n",
    "            self.customer_data[self.Customer_Account_Number][\"City\"]=input(\"enter your city\")\n",
    "            print(self.customer_data[self.Customer_Account_Number][\"City\"],\"City has been updated.................\")\n",
    "        elif KYC_Option==\"4\":\n",
    "            self.customer_data[self.Customer_Account_Number][\"Contact\"]=int(input(\"enter your contact number\"))\n",
    "            print(self.customer_data[self.Customer_Account_Number][\"Contact\"],\"Contact has been updated.................\")\n",
    "\n",
    "    def Deposit(self):\n",
    "        self.customer_data[self.Customer_Account_Number][\"Balance\"]=int(input(\"enter deposit amount\"))\n",
    "        self.Customer_Balance+self.customer_data[self.Customer_Account_Number][\"Balance\"]\n",
    "        print(\"You have deposited\", self.customer_data[self.Customer_Account_Number][\"Balance\"],\"Rs. in your account\",self.Customer_Account_Number)\n",
    "        self.bank_SBI_amount+self.customer_data[self.Customer_Account_Number][\"Balance\"]\n",
    "        \n",
    "    def Withdraw(self):\n",
    "        self.customer_data[self.Customer_Account_Number][\"Balance\"]=int(input(\"enter deposit amount\"))\n",
    "        self.Customer_Balance-self.customer_data[self.Customer_Account_Number][\"Balance\"]\n",
    "        print(\"You have deposited\", self.customer_data[self.Customer_Account_Number][\"Balance\"],\"Rs. in your account\",self.Customer_Account_Number)\n",
    "        self.bank_SBI_amount-self.customer_data[self.Customer_Account_Number][\"Balance\"]\n",
    "\n",
    "    def customer_Account_Balance(self):\n",
    "        print(\"Your current account balance \", self.customer_data[self.Customer_Account_Number][\"Balance\"])\n",
    "\n",
    "    def All_Customer_Data(self):\n",
    "        for Customer_Account_Number, customer in self.customer_data.items():\n",
    "            print(\"Account Number: \",Customer_Account_Number)\n",
    "            print(\"Name: \",customer[\"Name\"])\n",
    "            print(\"Age: \",customer[\"Age\"])\n",
    "            print(\"City: \",customer[\"City\"])\n",
    "            print(\"Gender\",customer[\"Gender\"])\n",
    "            print(\"Email\",customer[\"Email\"])\n",
    "            print(\"Balance\",customer[\"Balance\"])\n",
    "            print(\"!-----------------------------------------!\")\n",
    "\n",
    "class State_Bank_India(SBI_Login,Customer):\n",
    "    def __init__(self):\n",
    "        print(\"Welcome to State Bank of India\")\n",
    "        print(\"Bank id: \",\"SBI001@gmail.com\")\n",
    "        print(\"Bank Password\",\"0000\")\n",
    "\n",
    "bank=State_Bank_India()\n",
    "while True:\n",
    "    Admin_choice=input(\"\"\"\n",
    "    1. Bank\n",
    "    2. Customer\n",
    "    3. Exit\n",
    "    \"\"\")\n",
    "    if Admin_choice==\"1\":\n",
    "        bank.bank_option()\n",
    "    elif Admin_choice==\"2\":\n",
    "        bank.customer_option()\n",
    "    else:\n",
    "        print(\"Exit...................\")\n",
    "        break        "
   ]
  },
  {
   "cell_type": "code",
   "execution_count": 14,
   "id": "a655eb7d-c2f3-4bf1-abef-9b5c37be45bd",
   "metadata": {},
   "outputs": [
    {
     "data": {
      "text/plain": [
       "4163597"
      ]
     },
     "execution_count": 14,
     "metadata": {},
     "output_type": "execute_result"
    }
   ],
   "source": [
    "import numpy as np\n",
    "np.random.randint(1000000, 5000000)"
   ]
  },
  {
   "cell_type": "code",
   "execution_count": 18,
   "id": "f36b6bb3-4b8d-456d-ab1a-8dc034c70bb6",
   "metadata": {},
   "outputs": [
    {
     "name": "stdin",
     "output_type": "stream",
     "text": [
      "enter your name nishant\n",
      "enter your Age 26\n"
     ]
    }
   ],
   "source": [
    "newcustomer={}\n",
    "newcustomer[\"name\"]=input(\"enter your name\")\n",
    "newcustomer[\"Age\"]=input(\"enter your Age\")\n"
   ]
  },
  {
   "cell_type": "code",
   "execution_count": 19,
   "id": "22969585-2b55-4741-a8e4-08fcf51d4ac8",
   "metadata": {},
   "outputs": [
    {
     "data": {
      "text/plain": [
       "{'name': 'nishant', 'Age': '26'}"
      ]
     },
     "execution_count": 19,
     "metadata": {},
     "output_type": "execute_result"
    }
   ],
   "source": [
    "newcustomer"
   ]
  },
  {
   "cell_type": "code",
   "execution_count": 21,
   "id": "8181e6f2-7392-4ee5-b140-d4a6826cb3e8",
   "metadata": {},
   "outputs": [
    {
     "name": "stdout",
     "output_type": "stream",
     "text": [
      "{'2333534': {'name': 'nishant', 'Age': '26'}}\n"
     ]
    }
   ],
   "source": [
    "outside={}\n",
    "id=str(np.random.randint(1000000, 5000000))\n",
    "outside[id]=newcustomer\n",
    "print(outside)"
   ]
  },
  {
   "cell_type": "code",
   "execution_count": 30,
   "id": "eb26db2f-d646-41f1-9f58-cb824784a47f",
   "metadata": {},
   "outputs": [
    {
     "name": "stdout",
     "output_type": "stream",
     "text": [
      "name nishant\n",
      "Age 26\n"
     ]
    }
   ],
   "source": [
    "for key,value in newcustomer.items():\n",
    "    print(key,value)"
   ]
  },
  {
   "cell_type": "code",
   "execution_count": 41,
   "id": "ed8242e9-6666-40cf-9d57-b574e1596f9e",
   "metadata": {},
   "outputs": [
    {
     "name": "stdout",
     "output_type": "stream",
     "text": [
      "2389596 {'name': 'nisha', 'Age': '26'}\n"
     ]
    }
   ],
   "source": [
    "for k,v in outside.items():\n",
    "    print(k,v)"
   ]
  },
  {
   "cell_type": "code",
   "execution_count": 38,
   "id": "a73b4d99-304b-4cd0-a446-d5d60a64371e",
   "metadata": {},
   "outputs": [
    {
     "name": "stdin",
     "output_type": "stream",
     "text": [
      "enter your name nisha\n",
      "enter your Age 26\n"
     ]
    }
   ],
   "source": [
    "newcustomer={}\n",
    "outside={}\n",
    "newcustomer[\"name\"]=input(\"enter your name\")\n",
    "newcustomer[\"Age\"]=input(\"enter your Age\")\n",
    "id=str(np.random.randint(1000000, 5000000))\n",
    "outside[id]=newcustomer\n"
   ]
  },
  {
   "cell_type": "code",
   "execution_count": 34,
   "id": "79f43688-fc2c-4e38-8e7a-6f363c0a81f6",
   "metadata": {},
   "outputs": [
    {
     "name": "stdin",
     "output_type": "stream",
     "text": [
      "enter your name nishant\n",
      "enter your Age 26\n"
     ]
    },
    {
     "name": "stdout",
     "output_type": "stream",
     "text": [
      "{'1826253': {'name': 'nishant', 'Age': '26'}}\n"
     ]
    }
   ],
   "source": [
    "newcustomer={}\n",
    "outside={}\n",
    "newcustomer[\"name\"]=input(\"enter your name\")\n",
    "newcustomer[\"Age\"]=input(\"enter your Age\")\n",
    "id=str(np.random.randint(1000000, 5000000))\n",
    "outside[id]=newcustomer\n",
    "print(outside)\n"
   ]
  },
  {
   "cell_type": "code",
   "execution_count": null,
   "id": "fe7d4694-33fb-4673-adbf-68be8be868f6",
   "metadata": {},
   "outputs": [],
   "source": []
  },
  {
   "cell_type": "code",
   "execution_count": 43,
   "id": "559876c1-68c8-49d9-b1ca-0b92f687a5bd",
   "metadata": {},
   "outputs": [
    {
     "name": "stdout",
     "output_type": "stream",
     "text": [
      "\n",
      "4047090: {'name': 'niks', 'Age': '28'}\n"
     ]
    }
   ],
   "source": [
    "for key, value in outside.items():\n",
    "    print()\n",
    "    print(f\"{key}: {value}\")\n"
   ]
  },
  {
   "cell_type": "code",
   "execution_count": null,
   "id": "c8f57d2c-d655-41df-ad19-acca2df4347f",
   "metadata": {},
   "outputs": [],
   "source": []
  },
  {
   "cell_type": "markdown",
   "id": "5f17d3d7-66da-48d3-bb5a-ef2985219adf",
   "metadata": {
    "jp-MarkdownHeadingCollapsed": true
   },
   "source": [
    "# rough work"
   ]
  },
  {
   "cell_type": "code",
   "execution_count": 6,
   "id": "99d7e09e-0ac2-4b73-a8a7-86c723dddb71",
   "metadata": {},
   "outputs": [
    {
     "name": "stdout",
     "output_type": "stream",
     "text": [
      "3624-2024-07-21 <class 'str'>\n"
     ]
    }
   ],
   "source": [
    "k=str(np.random.randint(1000,5000))+\"-\"+str(date.today())\n",
    "print(k,type(k))\n",
    "\n",
    "\n"
   ]
  },
  {
   "cell_type": "code",
   "execution_count": 34,
   "id": "22f21a3b-a1f0-4c34-a812-9063a06a2e01",
   "metadata": {},
   "outputs": [],
   "source": [
    "customerdata={}\n"
   ]
  },
  {
   "cell_type": "markdown",
   "id": "66e6f8e6-75b4-4baf-8cf0-0aaba8d3a69f",
   "metadata": {},
   "source": [
    "# new file"
   ]
  },
  {
   "cell_type": "code",
   "execution_count": 12,
   "id": "cc88985f-3512-41c2-957a-842ce1724a73",
   "metadata": {},
   "outputs": [
    {
     "name": "stdout",
     "output_type": "stream",
     "text": [
      "Welcome to State Bank of India\n",
      "Bank id: SBI001@gmail.com\n",
      "Bank Password: 0000\n"
     ]
    },
    {
     "name": "stdin",
     "output_type": "stream",
     "text": [
      "\n",
      "    1. Bank\n",
      "    2. Customer\n",
      "    3. Exit\n",
      "     2\n",
      " \n",
      "        1. Create Account\n",
      "        2. Login Account\n",
      "        3. Check Account Details\n",
      "         1\n",
      "Enter your Name:  nishnt\n",
      "Enter your Age:  67\n",
      "Enter your Contact Number:  7687678\n",
      "Enter your Gender:  dfds\n",
      "Enter your City:  sdfsd\n",
      "Enter your email id:  fdfs\n",
      "Enter your password:  1111\n",
      "Enter your opening balance (min account balance: 10k):  12000\n"
     ]
    },
    {
     "name": "stdout",
     "output_type": "stream",
     "text": [
      "Your account has been created in State Bank of India\n",
      "\n",
      "\n",
      "Customer Account Number: NIS-4622045-2024-07-21\n",
      "Customer Account Password: 1111 \n",
      "\n",
      "Current available balance in State Bank of India:  12000\n"
     ]
    },
    {
     "name": "stdin",
     "output_type": "stream",
     "text": [
      "\n",
      "    1. Bank\n",
      "    2. Customer\n",
      "    3. Exit\n",
      "     2\n",
      " \n",
      "        1. Create Account\n",
      "        2. Login Account\n",
      "        3. Check Account Details\n",
      "         2\n",
      "Enter your account number:  NIS-4622045-2024-07-21\n",
      "Enter your password:  ········\n",
      "\n",
      "            1. Profile\n",
      "            2. Deposit\n",
      "            3. Withdraw\n",
      "            4. Check Balance\n",
      "            5. KYC Request\n",
      "            6. Change Password\n",
      "             4\n"
     ]
    },
    {
     "name": "stdout",
     "output_type": "stream",
     "text": [
      "Your current account balance  12000\n"
     ]
    },
    {
     "name": "stdin",
     "output_type": "stream",
     "text": [
      "\n",
      "    1. Bank\n",
      "    2. Customer\n",
      "    3. Exit\n",
      "     1\n",
      "\n",
      "        1. Show All Customer Data\n",
      "        2. Account Wise Details\n",
      "        3. Check Bank Deposit\n",
      "        4. close account\n",
      "        5. Show all customer account number & password\n",
      "    \n",
      "         3\n"
     ]
    },
    {
     "name": "stdout",
     "output_type": "stream",
     "text": [
      "Current available balance in State Bank of India:  12000\n"
     ]
    },
    {
     "name": "stdin",
     "output_type": "stream",
     "text": [
      "\n",
      "    1. Bank\n",
      "    2. Customer\n",
      "    3. Exit\n",
      "     2\n",
      " \n",
      "        1. Create Account\n",
      "        2. Login Account\n",
      "        3. Check Account Details\n",
      "         NIS-4622045-2024-07-21\n"
     ]
    },
    {
     "name": "stdout",
     "output_type": "stream",
     "text": [
      "Wrong Choice\n"
     ]
    },
    {
     "name": "stdin",
     "output_type": "stream",
     "text": [
      "\n",
      "    1. Bank\n",
      "    2. Customer\n",
      "    3. Exit\n",
      "     2\n",
      " \n",
      "        1. Create Account\n",
      "        2. Login Account\n",
      "        3. Check Account Details\n",
      "         2\n",
      "Enter your account number:  NIS-4622045-2024-07-21\n",
      "Enter your password:  ········\n",
      "\n",
      "            1. Profile\n",
      "            2. Deposit\n",
      "            3. Withdraw\n",
      "            4. Check Balance\n",
      "            5. KYC Request\n",
      "            6. Change Password\n",
      "             5\n",
      "\n",
      "        1. Name\n",
      "        2. Age\n",
      "        3. City\n",
      "        4. Contact        \n",
      "         1\n",
      "Enter your name:  Niku\n"
     ]
    },
    {
     "name": "stdout",
     "output_type": "stream",
     "text": [
      "Niku Name has been updated.................\n"
     ]
    },
    {
     "name": "stdin",
     "output_type": "stream",
     "text": [
      "\n",
      "    1. Bank\n",
      "    2. Customer\n",
      "    3. Exit\n",
      "     2\n",
      " \n",
      "        1. Create Account\n",
      "        2. Login Account\n",
      "        3. Check Account Details\n",
      "         2\n",
      "Enter your account number:  NIS-4622045-2024-07-21\n",
      "Enter your password:  ········\n",
      "\n",
      "            1. Profile\n",
      "            2. Deposit\n",
      "            3. Withdraw\n",
      "            4. Check Balance\n",
      "            5. KYC Request\n",
      "            6. Change Password\n",
      "             1\n",
      "Enter customer ID:  NIS-4622045-2024-07-21\n"
     ]
    },
    {
     "name": "stdout",
     "output_type": "stream",
     "text": [
      "!............. Niku  Profile..............................!\n",
      "\n",
      "Name: Niku\n",
      "Account Number: NIS-4622045-2024-07-21\n",
      "Age: 67\n",
      "Contact: 7687678\n",
      "Gender: dfds\n",
      "City: sdfsd\n",
      "Email: fdfs\n",
      "Password: 1111\n",
      "!...........................................................................!\n",
      "\n"
     ]
    },
    {
     "name": "stdin",
     "output_type": "stream",
     "text": [
      "\n",
      "    1. Bank\n",
      "    2. Customer\n",
      "    3. Exit\n",
      "     2\n",
      " \n",
      "        1. Create Account\n",
      "        2. Login Account\n",
      "        3. Check Account Details\n",
      "         2\n",
      "Enter your account number:  NIS-4622045-2024-07-21\n",
      "Enter your password:  ········\n",
      "\n",
      "            1. Profile\n",
      "            2. Deposit\n",
      "            3. Withdraw\n",
      "            4. Check Balance\n",
      "            5. KYC Request\n",
      "            6. Change Password\n",
      "             6\n",
      "Enter new password:  2222\n"
     ]
    },
    {
     "name": "stdout",
     "output_type": "stream",
     "text": [
      "Password has been changed successfully.\n"
     ]
    },
    {
     "name": "stdin",
     "output_type": "stream",
     "text": [
      "\n",
      "    1. Bank\n",
      "    2. Customer\n",
      "    3. Exit\n",
      "     2\n",
      " \n",
      "        1. Create Account\n",
      "        2. Login Account\n",
      "        3. Check Account Details\n",
      "         2\n",
      "Enter your account number:  NIS-4622045-2024-07-21\n",
      "Enter your password:  ········\n",
      "\n",
      "            1. Profile\n",
      "            2. Deposit\n",
      "            3. Withdraw\n",
      "            4. Check Balance\n",
      "            5. KYC Request\n",
      "            6. Change Password\n",
      "             3\n",
      "Enter withdraw amount:  1200\n"
     ]
    },
    {
     "name": "stdout",
     "output_type": "stream",
     "text": [
      "You have withdrawn 1200 Rs. from your account NIS-4622045-2024-07-21\n"
     ]
    },
    {
     "name": "stdin",
     "output_type": "stream",
     "text": [
      "\n",
      "    1. Bank\n",
      "    2. Customer\n",
      "    3. Exit\n",
      "     1\n",
      "\n",
      "        1. Show All Customer Data\n",
      "        2. Account Wise Details\n",
      "        3. Check Bank Deposit\n",
      "        4. close account\n",
      "        5. Show all customer account number & password\n",
      "    \n",
      "         1\n"
     ]
    },
    {
     "name": "stdout",
     "output_type": "stream",
     "text": [
      "Account Number:  NIS-4622045-2024-07-21\n",
      "Name:  Niku\n",
      "Age:  67\n",
      "City:  sdfsd\n",
      "Gender:  dfds\n",
      "Email:  fdfs\n",
      "Balance:  10800\n",
      "!-----------------------------------------!\n"
     ]
    },
    {
     "name": "stdin",
     "output_type": "stream",
     "text": [
      "\n",
      "    1. Bank\n",
      "    2. Customer\n",
      "    3. Exit\n",
      "     1\n",
      "\n",
      "        1. Show All Customer Data\n",
      "        2. Account Wise Details\n",
      "        3. Check Bank Deposit\n",
      "        4. close account\n",
      "        5. Show all customer account number & password\n",
      "    \n",
      "         2\n",
      "Enter customer ID:  NIS-4622045-2024-07-21\n"
     ]
    },
    {
     "name": "stdout",
     "output_type": "stream",
     "text": [
      "!............. Niku  Profile..............................!\n",
      "\n",
      "Name: Niku\n",
      "Account Number: NIS-4622045-2024-07-21\n",
      "Age: 67\n",
      "Contact: 7687678\n",
      "Gender: dfds\n",
      "City: sdfsd\n",
      "Email: fdfs\n",
      "Password: 2222\n",
      "!...........................................................................!\n",
      "\n"
     ]
    },
    {
     "name": "stdin",
     "output_type": "stream",
     "text": [
      "\n",
      "    1. Bank\n",
      "    2. Customer\n",
      "    3. Exit\n",
      "     3\n"
     ]
    },
    {
     "name": "stdout",
     "output_type": "stream",
     "text": [
      "Exit...................\n"
     ]
    }
   ],
   "source": [
    "import numpy as np\n",
    "from datetime import date\n",
    "import getpass as g\n",
    "\n",
    "#----------------------------------------------------------****customer*****-------------------------------------------------------------------------------------------------\n",
    "class Customers:\n",
    "    def __init__(self):\n",
    "        self.Customer_Account_Number = None\n",
    "        self.Customer_Account_Password = None\n",
    "        self.Customer_Balance = None\n",
    "        self.bank_SBI_amount = 0  \n",
    "        self.customer_data = {} \n",
    "\n",
    "#------------------------------------------------------------customer option -------------------------------------------------------------------------------------------------\n",
    "\n",
    "    def customer_option(self):\n",
    "        customer_choice = input(\"\"\" \n",
    "        1. Create Account\n",
    "        2. Login Account\n",
    "        3. Check Account Details\n",
    "        \"\"\")\n",
    "        if customer_choice == \"1\":\n",
    "            self.account_create()\n",
    "        elif customer_choice == \"2\":\n",
    "            self.customer_login()\n",
    "        elif customer_choice == \"3\":\n",
    "            self.customer_Account_data()\n",
    "        else:\n",
    "            print(\"Wrong Choice\")\n",
    "\n",
    "    def acc_number(self, customer):\n",
    "        self.Customer_Account_Number = customer[\"Name\"][:3].upper() + \"-\" + str(np.random.randint(1000000, 5000000)) + \"-\" + str(date.today())\n",
    "\n",
    "#--------------------------------------------------------------Add amount into bank-------------------------------------------------------------------------------------------\n",
    "    def Bank_Balance(self,customer):\n",
    "        self.bank_SBI_amount+=customer[\"Balance\"]\n",
    "        print(\"Current available balance in State Bank of India: \", self.bank_SBI_amount)\n",
    "        \n",
    "#--------------------------------------------------------------create customer account-------------------------------------------------------------------------------------------\n",
    " \n",
    "    def account_create(self):\n",
    "        customer = {}\n",
    "        customer[\"Name\"] = input(\"Enter your Name: \")\n",
    "        customer[\"Age\"] = input(\"Enter your Age: \")\n",
    "        customer[\"Contact\"] = int(input(\"Enter your Contact Number: \"))\n",
    "        customer[\"Gender\"] = input(\"Enter your Gender: \")\n",
    "        customer[\"City\"] = input(\"Enter your City: \")\n",
    "        customer[\"Email\"] = input(\"Enter your email id: \")  \n",
    "        customer[\"Password\"] = input(\"Enter your password: \")  \n",
    "        customer[\"Balance\"] = int(input(\"Enter your opening balance (min account balance: 10k): \"))\n",
    "        self.acc_number(customer)\n",
    "        self.customer_data[self.Customer_Account_Number] = customer\n",
    "        self.Customer_Account_Password = customer[\"Password\"]\n",
    "        self.Customer_Balance = customer[\"Balance\"]\n",
    "        print(\"Your account has been created in State Bank of India\\n\\n\")\n",
    "        print(\"Customer Account Number:\", self.Customer_Account_Number)\n",
    "        print(\"Customer Account Password:\", self.Customer_Account_Password, \"\\n\")\n",
    "        self.Bank_Balance(customer)\n",
    "              \n",
    "#--------------------------------------------------------------customer login-------------------------------------------------------------------------------------------\n",
    "\n",
    "    def customer_login(self):\n",
    "        account_number = input(\"Enter your account number: \")\n",
    "        account_password = g.getpass(\"Enter your password: \")\n",
    "        if account_number in self.customer_data and account_password == self.customer_data[account_number][\"Password\"]:\n",
    "            self.Customer_Account_Number = account_number\n",
    "            self.Customer_Account_Password = account_password\n",
    "            customer_option = input(\"\"\"\n",
    "            1. Profile\n",
    "            2. Deposit\n",
    "            3. Withdraw\n",
    "            4. Check Balance\n",
    "            5. KYC Request\n",
    "            6. Change Password\n",
    "            \"\"\")\n",
    "            if customer_option == \"1\":\n",
    "                self.customer_Account_data()\n",
    "            elif customer_option == \"2\":\n",
    "                self.Deposit()\n",
    "            elif customer_option == \"3\":\n",
    "                self.Withdraw()\n",
    "            elif customer_option == \"4\":\n",
    "                self.customer_Account_Balance()\n",
    "            elif customer_option == \"5\":\n",
    "                self.customer_profile_KYC()\n",
    "            elif customer_option == \"6\":\n",
    "                self.change_password()\n",
    "            else:\n",
    "                print(\"Wrong choice\")\n",
    "        else:\n",
    "            print(\"Invalid account number or password.\")\n",
    "\n",
    "#-----------------------------------------------------display customer data or profile by login id & password-------------------------------------------------------------------------------------------\n",
    "    def customer_Account_data(self):\n",
    "        Account_Num = input(\"Enter customer ID: \")\n",
    "        if Account_Num in self.customer_data:\n",
    "            self.Customer_Account_Number = Account_Num\n",
    "            self.customer_profile()\n",
    "        else:\n",
    "            print(\"Customer ID Not Found\")\n",
    "\n",
    "    \n",
    "    def customer_profile(self):\n",
    "        print(\"!.............\",self.customer_data[self.Customer_Account_Number][\"Name\"],\" Profile..............................!\\n\")\n",
    "        print(\"Name:\", self.customer_data[self.Customer_Account_Number][\"Name\"])\n",
    "        print(\"Account Number:\", self.Customer_Account_Number)\n",
    "        print(\"Age:\", self.customer_data[self.Customer_Account_Number][\"Age\"])\n",
    "        print(\"Contact:\", self.customer_data[self.Customer_Account_Number][\"Contact\"])\n",
    "        print(\"Gender:\", self.customer_data[self.Customer_Account_Number][\"Gender\"])\n",
    "        print(\"City:\", self.customer_data[self.Customer_Account_Number][\"City\"])\n",
    "        print(\"Email:\", self.customer_data[self.Customer_Account_Number][\"Email\"])\n",
    "        print(\"Password:\", self.customer_data[self.Customer_Account_Number][\"Password\"])\n",
    "        print(\"!...........................................................................!\\n\")\n",
    "\n",
    "#--------------------------------------------------------------customer profile-------------------------------------------------------------------------------------------\n",
    "\n",
    "    def customer_profile_KYC(self):\n",
    "        KYC_Option = input(\"\"\"\n",
    "        1. Name\n",
    "        2. Age\n",
    "        3. City\n",
    "        4. Contact        \n",
    "        \"\"\")\n",
    "        if KYC_Option == \"1\":\n",
    "            self.customer_data[self.Customer_Account_Number][\"Name\"] = input(\"Enter your name: \")\n",
    "            print(self.customer_data[self.Customer_Account_Number][\"Name\"], \"Name has been updated.................\")\n",
    "        elif KYC_Option == \"2\":\n",
    "            self.customer_data[self.Customer_Account_Number][\"Age\"] = input(\"Enter your age: \")\n",
    "            print(self.customer_data[self.Customer_Account_Number][\"Age\"], \"Age has been updated.................\")\n",
    "        elif KYC_Option == \"3\":\n",
    "            self.customer_data[self.Customer_Account_Number][\"City\"] = input(\"Enter your city: \")\n",
    "            print(self.customer_data[self.Customer_Account_Number][\"City\"], \"City has been updated.................\")\n",
    "        elif KYC_Option == \"4\":\n",
    "            self.customer_data[self.Customer_Account_Number][\"Contact\"] = int(input(\"Enter your contact number: \"))\n",
    "            print(self.customer_data[self.Customer_Account_Number][\"Contact\"], \"Contact has been updated.................\")\n",
    "\n",
    "#--------------------------------------------------------------deposit, withdraw & check balance-------------------------------------------------------------------------------------------\n",
    "\n",
    "    def Deposit(self):\n",
    "        deposit_amount = int(input(\"Enter deposit amount: \"))  \n",
    "        self.customer_data[self.Customer_Account_Number][\"Balance\"] += deposit_amount\n",
    "        self.Customer_Balance = self.customer_data[self.Customer_Account_Number][\"Balance\"]\n",
    "        self.bank_SBI_amount += deposit_amount\n",
    "        print(\"You have deposited\", deposit_amount, \"Rs. in your account\", self.Customer_Account_Number)\n",
    "\n",
    "    def Withdraw(self):\n",
    "        withdraw_amount = int(input(\"Enter withdraw amount: \")) \n",
    "        if withdraw_amount <= self.Customer_Balance:\n",
    "            self.customer_data[self.Customer_Account_Number][\"Balance\"] -= withdraw_amount\n",
    "            self.Customer_Balance = self.customer_data[self.Customer_Account_Number][\"Balance\"]\n",
    "            self.bank_SBI_amount -= withdraw_amount\n",
    "            print(\"You have withdrawn\", withdraw_amount, \"Rs. from your account\", self.Customer_Account_Number)\n",
    "        else:\n",
    "            print(\"Insufficient balance.\")\n",
    "\n",
    "#---------------------------------------------------customer account balance-------------------------------------------------------------------------------------------\n",
    "\n",
    "    def customer_Account_Balance(self):\n",
    "        print(\"Your current account balance \", self.customer_data[self.Customer_Account_Number][\"Balance\"])\n",
    "\n",
    "#------------------------------------------cutomer account password change-------------------------------------------------------------------------------------------\n",
    "\n",
    "    def change_password(self):\n",
    "        new_password = input(\"Enter new password: \")\n",
    "        self.customer_data[self.Customer_Account_Number][\"Password\"] = new_password\n",
    "        self.Customer_Account_Password = new_password\n",
    "        print(\"Password has been changed successfully.\")\n",
    "\n",
    "# ===================================================================================================================================================\n",
    "#                                                         bank login\n",
    "# ===================================================================================================================================================\n",
    "\n",
    "class SBI_Login(Customers):\n",
    "    def __init__(self):\n",
    "        self.bank_login_id = \"SBI001@gmail.com\"\n",
    "        self.bank_password = \"0000\"  \n",
    "        self.customer_data = {}  \n",
    "        self.bank_SBI_amount = 0  \n",
    "        self.bank_customer = None\n",
    "#--------------------------------------------------------------bank option-------------------------------------------------------------------------------------------\n",
    "\n",
    "    def bank_option(self):\n",
    "        bank_option = input(\"\"\"\n",
    "        1. Show All Customer Data\n",
    "        2. Account Wise Details\n",
    "        3. Check Bank Deposit\n",
    "        4. close account\n",
    "        5. Show all customer account number & password\n",
    "    \n",
    "        \"\"\")\n",
    "        if bank_option == \"1\":\n",
    "            self.All_Customer_Data()\n",
    "        elif bank_option == \"2\":\n",
    "            self.customer_Account_data()\n",
    "        elif bank_option == \"3\":\n",
    "            self.Bank_Account_Balance()\n",
    "        elif bank_option == \"4\":\n",
    "            self.close_account()\n",
    "        elif bank_option ==\"5\":\n",
    "            self.all_account_number()\n",
    "        else:\n",
    "            print(\"Wrong Choice\")\n",
    "#--------------------------------------------------------------show all customer data-------------------------------------------------------------------------------------------\n",
    "\n",
    "    \n",
    "    def All_Customer_Data(self):\n",
    "        for Customer_Account_Number, customer in self.customer_data.items():\n",
    "            print(\"Account Number: \", Customer_Account_Number)\n",
    "            print(\"Name: \", customer[\"Name\"])\n",
    "            print(\"Age: \", customer[\"Age\"])\n",
    "            print(\"City: \", customer[\"City\"])\n",
    "            print(\"Gender: \", customer[\"Gender\"])  \n",
    "            print(\"Email: \", customer[\"Email\"])  \n",
    "            print(\"Balance: \", customer[\"Balance\"])  \n",
    "            print(\"!-----------------------------------------!\")\n",
    "            \n",
    "#--------------------------------------------------------------show all account number and password-------------------------------------------------------------------------------------------\n",
    "\n",
    "    def all_account_number(self):\n",
    "        for Customer_Account_Number,customer in self.customer_data.items():\n",
    "            print(\"Account Number\",Customer_Account_Number)\n",
    "            print(\"password\",customer[\"Password\"])\n",
    "            print(\"!---------------------------------!\")\n",
    "\n",
    "#--------------------------------------------------------------bank account balance-------------------------------------------------------------------------------------------\n",
    "\n",
    "    \n",
    "    def Bank_Account_Balance(self):\n",
    "        print(\"Current available balance in State Bank of India: \", self.bank_SBI_amount)\n",
    "        \n",
    "#--------------------------------------------------------------delete account-------------------------------------------------------------------------------------------\n",
    "\n",
    "    \n",
    "    def close_account(self):\n",
    "        Bank_login_id = input(\"Enter your customer ID: \")\n",
    "        Bank_login_pass = g.getpass(\"Enter your password: \")\n",
    "        if Bank_login_id == self.bank_login_id and Bank_login_pass == self.bank_password:\n",
    "            Del_Account_Number = input(\"Enter Account Number\")\n",
    "            del self.customer_data[Del_Account_Number]  \n",
    "            self.Customer_Account_Number = None\n",
    "            self.Customer_Account_Password = None\n",
    "            print(\"Account Has Been Closed Permanently........\")\n",
    "        else:\n",
    "            print(\"Details do not match.......\")\n",
    "\n",
    "\n",
    "#--------------------------------------------------------------main page for vist bank-------------------------------------------------------------------------------------------\n",
    "\n",
    "class State_Bank_India(SBI_Login, Customers):\n",
    "    def __init__(self):\n",
    "        super().__init__() # used to take parent class data\n",
    "        print(\"Welcome to State Bank of India\")\n",
    "        print(\"Bank id: SBI001@gmail.com\")\n",
    "        print(\"Bank Password: 0000\")\n",
    "\n",
    "bank = State_Bank_India()\n",
    "while True:\n",
    "    Admin_choice = input(\"\"\"\n",
    "    1. Bank\n",
    "    2. Customer\n",
    "    3. Exit\n",
    "    \"\"\")\n",
    "    if Admin_choice == \"1\":\n",
    "        bank.bank_option()\n",
    "    elif Admin_choice == \"2\":\n",
    "        bank.customer_option()\n",
    "    elif Admin_choice == \"3\":\n",
    "        print(\"Exit...................\")\n",
    "        break\n",
    "    else:\n",
    "        print(\"Wrong Choice\")"
   ]
  },
  {
   "cell_type": "code",
   "execution_count": null,
   "id": "89972f42-782f-4466-9fb5-597d8f6affa5",
   "metadata": {},
   "outputs": [],
   "source": []
  },
  {
   "cell_type": "code",
   "execution_count": null,
   "id": "2991bae8-27ba-44df-85ef-33a41f655712",
   "metadata": {},
   "outputs": [],
   "source": []
  },
  {
   "cell_type": "code",
   "execution_count": null,
   "id": "b0bb771e-f425-47e5-b630-2aeedb817615",
   "metadata": {},
   "outputs": [],
   "source": []
  }
 ],
 "metadata": {
  "kernelspec": {
   "display_name": "Python 3 (ipykernel)",
   "language": "python",
   "name": "python3"
  },
  "language_info": {
   "codemirror_mode": {
    "name": "ipython",
    "version": 3
   },
   "file_extension": ".py",
   "mimetype": "text/x-python",
   "name": "python",
   "nbconvert_exporter": "python",
   "pygments_lexer": "ipython3",
   "version": "3.11.7"
  },
  "widgets": {
   "application/vnd.jupyter.widget-state+json": {
    "state": {},
    "version_major": 2,
    "version_minor": 0
   }
  }
 },
 "nbformat": 4,
 "nbformat_minor": 5
}
