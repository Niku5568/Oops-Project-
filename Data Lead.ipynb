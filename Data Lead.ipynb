{
 "cells": [
  {
   "cell_type": "markdown",
   "id": "53267bac-a2a5-44c5-b6af-436289e7b371",
   "metadata": {
    "jp-MarkdownHeadingCollapsed": true
   },
   "source": [
    "# old code"
   ]
  },
  {
   "cell_type": "code",
   "execution_count": 13,
   "id": "85472f31-6d3a-43c8-8bef-c6c5cd452353",
   "metadata": {},
   "outputs": [],
   "source": [
    "import numpy as np\n",
    "from datetime import date"
   ]
  },
  {
   "cell_type": "code",
   "execution_count": 6,
   "id": "177adabf-2584-4644-bbdb-f5bae82094b8",
   "metadata": {},
   "outputs": [
    {
     "name": "stdin",
     "output_type": "stream",
     "text": [
      " \n",
      "        1. Admin\n",
      "        2. customer\n",
      "        3. Exit\n",
      "         2\n",
      "\n",
      "        1. Customer Signup\n",
      "        2. Customer Login\n",
      "        3. Customer Profile\n",
      "        4. Password Change \n",
      "         1\n",
      "enter your Name n\n",
      "enter your Age 34\n",
      "enter your Contact Number 786867\n",
      "enter your Gender m\n",
      "enter your City d\n",
      "enter your Password 1111\n"
     ]
    },
    {
     "name": "stdout",
     "output_type": "stream",
     "text": [
      "Customer ID None\n"
     ]
    },
    {
     "name": "stdin",
     "output_type": "stream",
     "text": [
      " \n",
      "        1. Admin\n",
      "        2. customer\n",
      "        3. Exit\n",
      "         3\n"
     ]
    },
    {
     "name": "stdout",
     "output_type": "stream",
     "text": [
      "Exit..............\n"
     ]
    }
   ],
   "source": [
    "class Data_Lead:\n",
    "    def __init__(self):\n",
    "        self.__customer_details={} # store customer details\n",
    "        self.customer_id=None # store customer id\n",
    "        self.customer_password=None # store customer password\n",
    "        self.admin_email=\"datalead@gmail.com\"\n",
    "        self.admin_pass=0000\n",
    "        self.admin_name=None\n",
    "        self.admin_mob=None\n",
    "\n",
    "# ---------------------------------------------------------Customer panel------------------------------------------------------------------------------------------------\n",
    "    \n",
    "    def customer(self):\n",
    "        customer_choice=int(input(\"\"\"\n",
    "        1. Customer Signup\n",
    "        2. Customer Login\n",
    "        3. Customer Profile\n",
    "        4. Password Change \n",
    "        \"\"\"))\n",
    "        if customer_choice==1:\n",
    "            self.customer_signup()\n",
    "        elif customer_choice==2:\n",
    "            self.customer_login_choice()\n",
    "        elif customer_choice==3:\n",
    "            self.customer_Profile()\n",
    "        elif customer_choice==4:\n",
    "            self.password_change\n",
    "        else:\n",
    "            print(\"Wrong Choice\")\n",
    "\n",
    "# -------------------------------------------------------Customer registration------------------------------------------------------------------------------------------------\n",
    "\n",
    "\n",
    "    def customer_login_id(self):\n",
    "        self.customer_id= customer[\"Name\"][:4]+customer[\"Contact\"][:4]+str(date.today())\n",
    "    \n",
    "    def customer_signup(self):\n",
    "        customer={}\n",
    "        customer[\"Name\"]=input(\"enter your Name\")\n",
    "        customer[\"Age\"]=input(\"enter your Age\")\n",
    "        customer[\"Contact\"]=input(\"enter your Contact Number\")\n",
    "        customer[\"Gender\"]=input(\"enter your Gender\")\n",
    "        customer[\"City\"]=input(\"enter your City\")\n",
    "        customer[\"Password\"]=input(\"enter your Password\")\n",
    "        customer[\"Email\"]=customer[\"Name\"]+customer[\"Contact\"][:4]+\".datalead@gmail.com\"   \n",
    "        self.__customer_details[self.customer_id]=customer\n",
    "        self.customer_password=customer[\"Password\"]\n",
    "        print(\"Customer ID\",self.customer_id)\n",
    "\n",
    "\n",
    "# ---------------------------------------------------------Login Profile------------------------------------------------------------------------------------------------\n",
    "\n",
    "    def customer_login_choice(self):\n",
    "        print(\"NOTE: Your user id combination of your first 4 latter of your name and contact number \")\n",
    "        customer_login_id=input(\"enter your customer id\")\n",
    "        customer_login_pass=input(\"enter your customer id\")        \n",
    "        if customer_login_id==self.customer_id and customer_login_pass == self.customer_password:\n",
    "            login_choice=input(\"\"\"\n",
    "            1. Customer profile\n",
    "            2. Change Password\n",
    "            3. Exit\n",
    "            \"\"\")\n",
    "            if login_choice==\"1\":\n",
    "                self.customer_Profile()\n",
    "            elif login_choice==\"2\":\n",
    "                self.password_change()\n",
    "        else:\n",
    "            print(\"details not match.......\")\n",
    "\n",
    "# ---------------------------------------------------------for profile login Customer Data------------------------------------------------------------------------------------------------\n",
    " \n",
    "    def customer_id_data(self):\n",
    "        cust_ID=input(\"enter customer id\")\n",
    "        if cust_ID in self.__customer_details.keys():\n",
    "            self.__customer_details[cust_ID].customer_Profile()\n",
    "    \n",
    "# ---------------------------------------------------------Customer Profile------------------------------------------------------------------------------------------------ \n",
    "    def customer_Profile(self):\n",
    "        print(self.__customer_details[self.customer_id]['Name'], \"Data Lead Profile\")\n",
    "        print(\"Customer ID\", self.customer_id)\n",
    "        print(\"Name\" ,self.__customer_details[self.customer_id]['Name'])\n",
    "        print(\"Name\" ,self.__customer_details[self.customer_id]['Age'])\n",
    "        print(\"Name\" ,self.__customer_details[self.customer_id]['Contact'])\n",
    "        print(\"Name\" ,self.__customer_details[self.customer_id]['Gender'])\n",
    "        print(\"Name\" ,self.__customer_details[self.customer_id]['City'])\n",
    "        print(\"Name\" ,self.__customer_details[self.customer_id]['Email'])\n",
    "        print(\"Name\" ,self.__customer_details[self.customer_id]['Password'])\n",
    "\n",
    "# ---------------------------------------------------------password changed------------------------------------------------------------------------------------------------\n",
    "\n",
    "    \n",
    "    def password_change(self):\n",
    "        customer_login_id=input(\"enter your customer id\")\n",
    "        customer_login_pass=input(\"enter your customer id\")        \n",
    "        if customer_login_id==self.customer_id and customer_login_pass == self.customer_password:\n",
    "            self.__customer_details[self.customer_id]['Password']=input(\"enter your new Password\")\n",
    "            print(\"\"\"\n",
    "            You Have Change Password Successfully..............\n",
    "            \n",
    "            Kindly Re-Login Your Account. \n",
    "            \"\"\")       \n",
    "\n",
    "# ---------------------------------------------------------All Customer Data for admin------------------------------------------------------------------------------------------------\n",
    "    \n",
    "    def register_customer_data(self):\n",
    "        for customer_login_id, customer in self.__customer_details.items():\n",
    "            print(\"Customer ID: \",customer_login_id)\n",
    "            print(\"Name: \", customer[\"Name\"])\n",
    "            print(\"Age: \", customer[\"Age\"])\n",
    "            print(\"Contact: \", customer[\"Contact\"])\n",
    "            print(\"City: \", customer[\"City\"])\n",
    "            print(\"Email: \", customer[\"Email\"])\n",
    "            print(\"!-----------------------------------!\")\n",
    "\n",
    "            \n",
    "# -----------------------------------------------------------Admin Panel--------------------------------------------------------------------------------------------\n",
    "   \n",
    "    def admin_login(self):\n",
    "        admin_email=input(\"Enter Admin Email ID\")\n",
    "        admin_pass=int(input(\"Enter Admin Password\"))          \n",
    "        if admin_email== self.admin_email and self.admin_pass==0000:\n",
    "            print(\"Old Admin Password Kindly Change it\\n\")   \n",
    "            self.admin_pass=int(input(\"Enter New Password\"))\n",
    "            print(\"\\nYou have sucessfully changed Admin Password\\n\")\n",
    "            admin_choice=input(\"\"\"\n",
    "            1. All customer Details\n",
    "            2. Detils with Customer ID\n",
    "            3. Change Admin Password            \n",
    "            \"\"\")\n",
    "            if admin_choice==\"1\":\n",
    "                self.check_all_customer()\n",
    "            elif admin_choice==\"2\":\n",
    "                pass\n",
    "            elif admin_choice==\"3\":\n",
    "                self.change_admin_passwrod()\n",
    "            else:\n",
    "                print(\"Wrong Choice\")\n",
    "            \n",
    "        else:\n",
    "            print(\"Admin Login Details Not Match\")\n",
    "            self.admin_login()\n",
    "\n",
    "    def check_all_customer(self):\n",
    "        self.register_customer_data()\n",
    "\n",
    "    def change_admin_passwrod(self):\n",
    "        new_admin_email=input(\"Enter Admin Email ID\")\n",
    "        new_admin_pass=int(input(\"Enter Admin Password\"))          \n",
    "        if new_admin_email== self.admin_email and new_admin_pass==self.admin_pass:\n",
    "            self.admin_pass=input(\"enter your new password\")\n",
    "            print(\"\\n Admin Password Changed sucessfully\\n\")\n",
    "        else:\n",
    "            print(\"Login Details Not Match\")\n",
    "\n",
    "# ---------------------------------------------------------Entry Point------------------------------------------------------------------------------------------------\n",
    "\n",
    "d=Data_Lead()\n",
    "while True:\n",
    "        choice=input(\"\"\" \n",
    "        1. Admin\n",
    "        2. customer\n",
    "        3. Exit\n",
    "        \"\"\")\n",
    "        if choice==\"1\":\n",
    "            d.admin_login()\n",
    "        elif choice==\"2\":\n",
    "            d.customer()\n",
    "        else:\n",
    "            print(\"Exit..............\")\n",
    "            break\n"
   ]
  },
  {
   "cell_type": "code",
   "execution_count": null,
   "id": "9e86fedf-4f16-4d37-8605-f755051ffeed",
   "metadata": {},
   "outputs": [],
   "source": []
  },
  {
   "cell_type": "code",
   "execution_count": null,
   "id": "9fa94f23-4b86-4ee9-b901-384424e0bae9",
   "metadata": {},
   "outputs": [],
   "source": []
  },
  {
   "cell_type": "code",
   "execution_count": null,
   "id": "c3dcaaa4-0cf3-4666-a9df-d3a041bb886b",
   "metadata": {},
   "outputs": [],
   "source": []
  },
  {
   "cell_type": "code",
   "execution_count": null,
   "id": "e438f1c6-ca8f-4442-b985-46f60499a637",
   "metadata": {},
   "outputs": [],
   "source": []
  },
  {
   "cell_type": "markdown",
   "id": "eb11670e-50c3-4b78-a858-7c1f7175b472",
   "metadata": {
    "jp-MarkdownHeadingCollapsed": true
   },
   "source": [
    "# task rough solution"
   ]
  },
  {
   "cell_type": "markdown",
   "id": "7a43a93d-d2d8-4998-a86e-9c7095ad8620",
   "metadata": {},
   "source": [
    "> # store customer data"
   ]
  },
  {
   "cell_type": "code",
   "execution_count": 8,
   "id": "4d183b31-e597-4358-9abb-914b2eabb206",
   "metadata": {},
   "outputs": [
    {
     "name": "stdin",
     "output_type": "stream",
     "text": [
      "enter your Name nishant\n",
      "enter your Age 26\n",
      "enter your Contact Number 9654546020\n",
      "enter your Gender male\n",
      "enter your City delhi\n",
      "enter your Password 1111\n"
     ]
    }
   ],
   "source": [
    "# store customer data\n",
    "customer={}\n",
    "customer[\"Name\"]=input(\"enter your Name\")\n",
    "customer[\"Age\"]=input(\"enter your Age\")\n",
    "customer[\"Contact\"]=input(\"enter your Contact Number\")\n",
    "customer[\"Gender\"]=input(\"enter your Gender\")\n",
    "customer[\"City\"]=input(\"enter your City\")\n",
    "customer[\"Password\"]=input(\"enter your Password\")\n",
    "customer[\"Email\"]=customer[\"Name\"]+customer[\"Contact\"][:4]+\".datalead@gmail.com\""
   ]
  },
  {
   "cell_type": "code",
   "execution_count": 15,
   "id": "b6447ced-b041-4b8f-8f2b-b7e0cefbd6cc",
   "metadata": {},
   "outputs": [
    {
     "name": "stdout",
     "output_type": "stream",
     "text": [
      "{'Name': 'nishant', 'Age': '26', 'Contact': '9654546020', 'Gender': 'male', 'City': 'delhi', 'Password': '1111', 'Email': 'nishant9654.datalead@gmail.com'}\n"
     ]
    }
   ],
   "source": [
    "# show all customer data\n",
    "print(customer)"
   ]
  },
  {
   "cell_type": "code",
   "execution_count": 16,
   "id": "009a93e3-f59d-4772-b491-fc889a538209",
   "metadata": {},
   "outputs": [
    {
     "name": "stdout",
     "output_type": "stream",
     "text": [
      "nishant9654.datalead@gmail.com\n"
     ]
    }
   ],
   "source": [
    "v=customer[\"Email\"]\n",
    "print(v)"
   ]
  },
  {
   "cell_type": "code",
   "execution_count": 17,
   "id": "c841bd1d-c4e5-4add-8383-29b01a4ef8ee",
   "metadata": {},
   "outputs": [
    {
     "name": "stdout",
     "output_type": "stream",
     "text": [
      "nishant9654.datalead@gmail.com\n"
     ]
    }
   ],
   "source": [
    "# create email\n",
    "customer[\"Email\"]=customer[\"Name\"]+customer[\"Contact\"][:4]+\".datalead@gmail.com\"\n",
    "v=customer[\"Email\"]\n",
    "print(v)"
   ]
  },
  {
   "cell_type": "markdown",
   "id": "5258f0c9-db1e-4fa6-aff4-97fe4d9c233d",
   "metadata": {},
   "source": [
    "> # create customer id"
   ]
  },
  {
   "cell_type": "code",
   "execution_count": 25,
   "id": "040c892b-7146-4225-9d32-d800071cf11b",
   "metadata": {},
   "outputs": [
    {
     "name": "stdout",
     "output_type": "stream",
     "text": [
      "NIS9654-2024-07-20-0\n"
     ]
    }
   ],
   "source": [
    "# create customer id\n",
    "count=0\n",
    "customer_id=customer[\"Name\"][:3].upper()+customer[\"Contact\"][:4]+\"-\"+str(date.today())+\"-\"+str(count)\n",
    "count+=1\n",
    "print(customer_id)"
   ]
  },
  {
   "cell_type": "code",
   "execution_count": null,
   "id": "6322752d-9559-47e1-a893-3f1b8dda0b53",
   "metadata": {},
   "outputs": [],
   "source": []
  },
  {
   "cell_type": "code",
   "execution_count": null,
   "id": "f236363a-dbf7-4e72-ae5c-563b5ed2e440",
   "metadata": {},
   "outputs": [],
   "source": []
  },
  {
   "cell_type": "code",
   "execution_count": null,
   "id": "a9f95bc9-0321-478d-a32f-d3cacc1fed6d",
   "metadata": {},
   "outputs": [],
   "source": []
  },
  {
   "cell_type": "code",
   "execution_count": null,
   "id": "857512f4-a8a3-4da2-b48b-5ce4091048c0",
   "metadata": {},
   "outputs": [],
   "source": []
  },
  {
   "cell_type": "code",
   "execution_count": null,
   "id": "e1daeb78-6310-4aac-b74e-20c575ac851a",
   "metadata": {},
   "outputs": [],
   "source": []
  },
  {
   "cell_type": "markdown",
   "id": "3e986860-b8d9-40e3-9e4c-051ac10745f8",
   "metadata": {},
   "source": [
    "# new file"
   ]
  },
  {
   "cell_type": "code",
   "execution_count": 30,
   "id": "f5735d39-073d-49a8-aeb5-510130004194",
   "metadata": {},
   "outputs": [
    {
     "name": "stdout",
     "output_type": "stream",
     "text": [
      "\n",
      "Welcome to Data Lead \n",
      "    Admin ID= datalead@gmail.com\n",
      "    Admin Password=0000\n",
      "    \n"
     ]
    },
    {
     "name": "stdin",
     "output_type": "stream",
     "text": [
      " \n",
      "    1. Admin\n",
      "    2. Customer\n",
      "    3. Exit\n",
      "     2\n",
      "\n",
      "        1. Customer Signup\n",
      "        2. Customer Login\n",
      "        3. Customer Profile\n",
      "        4. Password Change \n",
      "         1\n",
      "Enter your Name:  nishant\n",
      "Enter your Age:  26\n",
      "Enter your Contact Number:  9654546020\n",
      "Enter your Gender:  male\n",
      "Enter your City:  delhi\n",
      "Enter your Password:  1234\n"
     ]
    },
    {
     "name": "stdout",
     "output_type": "stream",
     "text": [
      "Customer ID: NISH9654-2024-07-20\n",
      "\n",
      "Welcome to Data Lead \n",
      "    Admin ID= datalead@gmail.com\n",
      "    Admin Password=0000\n",
      "    \n"
     ]
    },
    {
     "name": "stdin",
     "output_type": "stream",
     "text": [
      " \n",
      "    1. Admin\n",
      "    2. Customer\n",
      "    3. Exit\n",
      "     2\n",
      "\n",
      "        1. Customer Signup\n",
      "        2. Customer Login\n",
      "        3. Customer Profile\n",
      "        4. Password Change \n",
      "         3\n",
      "Enter customer ID:  NISH9654-2024-07-20\n"
     ]
    },
    {
     "name": "stdout",
     "output_type": "stream",
     "text": [
      "nishant Data Lead Profile\n",
      "Customer ID: NISH9654-2024-07-20\n",
      "Name: nishant\n",
      "Age: 26\n",
      "Contact: 9654546020\n",
      "Gender: male\n",
      "City: delhi\n",
      "Email: nishant9654.datalead@gmail.com\n",
      "Password: 1234\n",
      "\n",
      "Welcome to Data Lead \n",
      "    Admin ID= datalead@gmail.com\n",
      "    Admin Password=0000\n",
      "    \n"
     ]
    },
    {
     "name": "stdin",
     "output_type": "stream",
     "text": [
      " \n",
      "    1. Admin\n",
      "    2. Customer\n",
      "    3. Exit\n",
      "     1\n",
      "Enter Admin Email ID:  datalead@gmail.com\n",
      "Enter Admin Password:  ········\n"
     ]
    },
    {
     "name": "stdout",
     "output_type": "stream",
     "text": [
      "\n",
      "You have successfully changed the Admin Password.\n",
      "\n"
     ]
    },
    {
     "name": "stdin",
     "output_type": "stream",
     "text": [
      "\n",
      "        1. All customer details\n",
      "        2. Details with Customer ID\n",
      "        3. Change Admin Password            \n",
      "         1\n"
     ]
    },
    {
     "name": "stdout",
     "output_type": "stream",
     "text": [
      "Customer ID: NISH9654-2024-07-20\n",
      "Name: nishant\n",
      "Age: 26\n",
      "Contact: 9654546020\n",
      "City: delhi\n",
      "Email: nishant9654.datalead@gmail.com\n",
      "!-----------------------------------!\n",
      "\n",
      "Welcome to Data Lead \n",
      "    Admin ID= datalead@gmail.com\n",
      "    Admin Password=0000\n",
      "    \n"
     ]
    },
    {
     "name": "stdin",
     "output_type": "stream",
     "text": [
      " \n",
      "    1. Admin\n",
      "    2. Customer\n",
      "    3. Exit\n",
      "     2\n",
      "\n",
      "        1. Customer Signup\n",
      "        2. Customer Login\n",
      "        3. Customer Profile\n",
      "        4. Password Change \n",
      "         1\n",
      "Enter your Name:  vishal\n",
      "Enter your Age:  25\n",
      "Enter your Contact Number:  8287015416\n",
      "Enter your Gender:  male\n",
      "Enter your City:  delhi\n",
      "Enter your Password:  4321\n"
     ]
    },
    {
     "name": "stdout",
     "output_type": "stream",
     "text": [
      "Customer ID: VISH8287-2024-07-20\n",
      "\n",
      "Welcome to Data Lead \n",
      "    Admin ID= datalead@gmail.com\n",
      "    Admin Password=0000\n",
      "    \n"
     ]
    },
    {
     "name": "stdin",
     "output_type": "stream",
     "text": [
      " \n",
      "    1. Admin\n",
      "    2. Customer\n",
      "    3. Exit\n",
      "     1\n",
      "Enter Admin Email ID:  datalead@gmail.com\n",
      "Enter Admin Password:  ········\n"
     ]
    },
    {
     "name": "stdout",
     "output_type": "stream",
     "text": [
      "\n",
      "You have successfully changed the Admin Password.\n",
      "\n"
     ]
    },
    {
     "name": "stdin",
     "output_type": "stream",
     "text": [
      "\n",
      "        1. All customer details\n",
      "        2. Details with Customer ID\n",
      "        3. Change Admin Password            \n",
      "         1\n"
     ]
    },
    {
     "name": "stdout",
     "output_type": "stream",
     "text": [
      "Customer ID: NISH9654-2024-07-20\n",
      "Name: nishant\n",
      "Age: 26\n",
      "Contact: 9654546020\n",
      "City: delhi\n",
      "Email: nishant9654.datalead@gmail.com\n",
      "!-----------------------------------!\n",
      "Customer ID: VISH8287-2024-07-20\n",
      "Name: vishal\n",
      "Age: 25\n",
      "Contact: 8287015416\n",
      "City: delhi\n",
      "Email: vishal8287.datalead@gmail.com\n",
      "!-----------------------------------!\n",
      "\n",
      "Welcome to Data Lead \n",
      "    Admin ID= datalead@gmail.com\n",
      "    Admin Password=0000\n",
      "    \n"
     ]
    },
    {
     "name": "stdin",
     "output_type": "stream",
     "text": [
      " \n",
      "    1. Admin\n",
      "    2. Customer\n",
      "    3. Exit\n",
      "     3\n"
     ]
    },
    {
     "name": "stdout",
     "output_type": "stream",
     "text": [
      "Exit..............\n",
      "\n",
      "Thanks for vist in Data Lead\n"
     ]
    }
   ],
   "source": [
    "import numpy as np\n",
    "import getpass as g\n",
    "from datetime import date\n",
    "class Data_Lead:\n",
    "    def __init__(self):\n",
    "        self.__customer_details = {}  # store customer details\n",
    "        self.customer_id = None  # store customer id\n",
    "        self.customer_password = None  # store customer password\n",
    "        self.admin_email = \"datalead@gmail.com\"\n",
    "        self.admin_pass = 0000\n",
    "        self.admin_name = None\n",
    "        self.admin_mob = None\n",
    "\n",
    "# ---------------------------------------------------------Customer panel------------------------------------------------------------------------------------------------\n",
    "    \n",
    "    def customer(self):\n",
    "        customer_choice = int(input(\"\"\"\n",
    "        1. Customer Signup\n",
    "        2. Customer Login\n",
    "        3. Customer Profile\n",
    "        4. Password Change \n",
    "        \"\"\"))\n",
    "        if customer_choice == 1:\n",
    "            self.customer_signup()\n",
    "        elif customer_choice == 2:\n",
    "            self.customer_login_choice()\n",
    "        elif customer_choice == 3:\n",
    "            self.customer_id_data()\n",
    "        elif customer_choice == 4:\n",
    "            self.password_change()\n",
    "        else:\n",
    "            print(\"Wrong Choice\")\n",
    "\n",
    "# -------------------------------------------------------Customer registration------------------------------------------------------------------------------------------------\n",
    "\n",
    "    def customer_login_id(self, customer):\n",
    "        self.customer_id = customer[\"Name\"][:4].upper() + customer[\"Contact\"][:4].upper()+\"-\"+str(date.today())\n",
    "    \n",
    "    def customer_signup(self):\n",
    "        customer = {}\n",
    "        customer[\"Name\"] = input(\"Enter your Name: \")\n",
    "        customer[\"Age\"] = input(\"Enter your Age: \")\n",
    "        customer[\"Contact\"] = input(\"Enter your Contact Number: \")\n",
    "        customer[\"Gender\"] = input(\"Enter your Gender: \")\n",
    "        customer[\"City\"] = input(\"Enter your City: \")\n",
    "        customer[\"Password\"] = input(\"Enter your Password: \")\n",
    "        customer[\"Email\"] = customer[\"Name\"] + customer[\"Contact\"][:4] + \".datalead@gmail.com\"   \n",
    "        self.customer_login_id(customer)\n",
    "        self.__customer_details[self.customer_id] = customer\n",
    "        self.customer_password = customer[\"Password\"]\n",
    "        print(\"Customer ID:\", self.customer_id)\n",
    "\n",
    "# ---------------------------------------------------------Login Profile------------------------------------------------------------------------------------------------\n",
    "\n",
    "    def customer_login_choice(self):\n",
    "        print(\"NOTE: Your user id is a combination of the first 4 letters of your name and contact number & date of registration (yyyy-mm-dd).\")\n",
    "        customer_login_id = input(\"Enter your customer ID: \")\n",
    "        customer_login_pass = input(\"Enter your password: \")        \n",
    "        if customer_login_id == self.customer_id and customer_login_pass == self.customer_password:\n",
    "            login_choice = input(\"\"\"\n",
    "            1. Customer profile\n",
    "            2. Change Password\n",
    "            3. Update New Details\n",
    "            4. Delete Your Profile\n",
    "            \"\"\")\n",
    "            if login_choice == \"1\":\n",
    "                self.customer_id_data()\n",
    "            elif login_choice == \"2\":\n",
    "                self.password_change()\n",
    "            elif login_choice ==\"3\":\n",
    "                self.update_Profile()\n",
    "            elif login_choice ==\"4\":\n",
    "                self.delete_customer_profile()\n",
    "            else:\n",
    "                print(\"Wrong choice\")      \n",
    "        else:\n",
    "            print(\"Details do not match.......\")\n",
    "\n",
    "# ---------------------------------------------------------Customer Profile------------------------------------------------------------------------------------------------\n",
    "\n",
    "    def customer_Profile(self):\n",
    "        customer = self.__customer_details[self.customer_id]\n",
    "        print(customer['Name'], \"Data Lead Profile\")\n",
    "        print(\"Customer ID:\", self.customer_id)\n",
    "        print(\"Name:\", customer['Name'])\n",
    "        print(\"Age:\", customer['Age'])\n",
    "        print(\"Contact:\", customer['Contact'])\n",
    "        print(\"Gender:\", customer['Gender'])\n",
    "        print(\"City:\", customer['City'])\n",
    "        print(\"Email:\", customer['Email'])\n",
    "        print(\"Password:\", customer['Password'])\n",
    "\n",
    "# ---------------------------------------------------------Password Change------------------------------------------------------------------------------------------------\n",
    "\n",
    "    def password_change(self):\n",
    "        customer_login_id = input(\"Enter your customer ID: \")\n",
    "        customer_login_pass = g.getpass(\"Enter your password: \")        \n",
    "        if customer_login_id == self.customer_id and customer_login_pass == self.customer_password:\n",
    "            self.__customer_details[self.customer_id]['Password'] = input(\"Enter your new Password: \")\n",
    "            print(\"\"\"\n",
    "            You have changed the password successfully.\n",
    "            \n",
    "            Kindly re-login to your account. \n",
    "            \"\"\")\n",
    "            \n",
    "# ---------------------------------------------------------Profile Update ------------------------------------------------------------------------------------------------\n",
    "    def update_customer_profile(self):\n",
    "        customer_login_id = input(\"Enter your customer ID: \")\n",
    "        customer_login_pass = g.getpass(\"Enter your password: \")\n",
    "        if customer_login_id == self.customer_id and customer_login_pass == self.customer_password:\n",
    "            customer = self.__customer_details[self.customer_id]\n",
    "            update_choice = input(\"\"\"\n",
    "            1. Name\n",
    "            2. Age\n",
    "            3. Contact\n",
    "            4. Gender\n",
    "            5. City\n",
    "            \"\"\")\n",
    "            if update_choice == \"1\":\n",
    "                self.__customer_details[self.customer_id][\"Name\"] = input(\"Enter new Name: \")\n",
    "            elif update_choice == \"2\":\n",
    "                self.__customer_details[self.customer_id][\"Age\"] = input(\"Enter new Age: \")\n",
    "            elif update_choice == \"3\":\n",
    "                self.__customer_details[self.customer_id] = input(\"Enter new Contact: \")\n",
    "            elif update_choice == \"4\":\n",
    "                self.__customer_details[self.customer_id][\"Gender\"] = input(\"Enter new Gender: \")\n",
    "            elif update_choice == \"5\":\n",
    "                self.__customer_details[self.customer_id][\"City\"] = input(\"Enter new City: \")\n",
    "            else:\n",
    "                print(\"Invalid choice\")\n",
    "            self.__customer_details[self.customer_id] = customer\n",
    "            print(\"Profile updated successfully.\")\n",
    "        else:\n",
    "            print(\"Details do not match.......\")\n",
    "       \n",
    "# ---------------------------------------------------------Profile delete ------------------------------------------------------------------------------------------------\n",
    "\n",
    "    def delete_customer_profile(self):\n",
    "        customer_login_id = input(\"Enter your customer ID: \")\n",
    "        customer_login_pass = g.getpass(\"Enter your password: \")\n",
    "        if customer_login_id == self.customer_id and customer_login_pass == self.customer_password:\n",
    "            del self.__customer_details[self.customer_id]\n",
    "            self.customer_id = None\n",
    "            self.customer_password = None\n",
    "            print(\"Profile deleted successfully.\")\n",
    "        else:\n",
    "            print(\"Details do not match.......\")   \n",
    "           \n",
    "# ---------------------------------------------------------All Customer Data------------------------------------------------------------------------------------------------\n",
    "    \n",
    "    def register_customer_data(self):\n",
    "        for customer_login_id, customer in self.__customer_details.items():  # loop will check customer id in customer details and return the all keys present in the customer details \n",
    "            print(\"Customer ID:\", customer_login_id)\n",
    "            print(\"Name:\", customer[\"Name\"]) # after accessing customer details \"dict\" again check key \"Name\" in customer \"Dict\" and so on same for all below keys for the particular id entered by admin\n",
    "            print(\"Age:\", customer[\"Age\"])\n",
    "            print(\"Contact:\", customer[\"Contact\"])\n",
    "            print(\"City:\", customer[\"City\"])\n",
    "            print(\"Email:\", customer[\"Email\"])\n",
    "            print(\"!-----------------------------------!\")\n",
    "\n",
    "    def customer_id_data(self):\n",
    "        cust_ID = input(\"Enter customer ID: \")\n",
    "        if cust_ID in self.__customer_details.keys():\n",
    "            self.customer_id = cust_ID\n",
    "            self.customer_Profile()\n",
    "        else:\n",
    "            print(\"Customer ID Not Found\")\n",
    "\n",
    "# -----------------------------------------------------------Admin Panel--------------------------------------------------------------------------------------------\n",
    "   \n",
    "    def admin_login(self):\n",
    "        admin_email = input(\"Enter Admin Email ID: \")\n",
    "        admin_pass = int(g.getpass(\"Enter Admin Password: \"))          \n",
    "        if admin_email == self.admin_email and admin_pass == self.admin_pass:\n",
    "            print(\"\\nYou have successfully changed the Admin Password.\\n\")\n",
    "            self.admin_login_choice()\n",
    "        else:\n",
    "            print(\"Admin Login Details Do Not Match\")\n",
    "            self.admin_login()\n",
    "           \n",
    "    def admin_login_choice(self):\n",
    "        admin_choice = input(\"\"\"\n",
    "        1. All customer details\n",
    "        2. Details with Customer ID\n",
    "        3. Change Admin Password            \n",
    "        \"\"\")\n",
    "        if admin_choice == \"1\":\n",
    "            self.check_all_customer()\n",
    "        elif admin_choice == \"2\":\n",
    "            self.customer_id_data()\n",
    "        elif admin_choice == \"3\":\n",
    "            self.change_admin_password()\n",
    "        else:\n",
    "            print(\"Wrong Choice\")\n",
    "\n",
    "    def check_all_customer(self):\n",
    "        self.register_customer_data()\n",
    "\n",
    "    def change_admin_password(self):\n",
    "        new_admin_email = input(\"Enter Admin Email ID: \")\n",
    "        new_admin_pass = int(input(\"Enter Admin Password: \"))          \n",
    "        if new_admin_email == self.admin_email and new_admin_pass == self.admin_pass:\n",
    "            self.admin_pass = int(input(\"Enter your new password: \"))\n",
    "            print(\"\\nAdmin Password Changed Successfully\\n\")\n",
    "        else:\n",
    "            print(\"Login Details Do Not Match\")\n",
    "\n",
    "# ---------------------------------------------------------Entry Point------------------------------------------------------------------------------------------------\n",
    "\n",
    "d = Data_Lead()\n",
    "while True:\n",
    "    print(\"\"\"\\nWelcome to Data Lead \n",
    "    Admin ID= datalead@gmail.com\n",
    "    Admin Password=0000\n",
    "    \"\"\")\n",
    "    choice = input(\"\"\" \n",
    "    1. Admin\n",
    "    2. Customer\n",
    "    3. Exit\n",
    "    \"\"\")\n",
    "    if choice == \"1\":\n",
    "        d.admin_login()\n",
    "    elif choice == \"2\":\n",
    "        d.customer()\n",
    "    else:\n",
    "        print(\"Exit..............\\n\\nThanks for vist in Data Lead\")\n",
    "        break\n"
   ]
  },
  {
   "cell_type": "code",
   "execution_count": null,
   "id": "73627a73-598b-47f5-9519-b613003695e2",
   "metadata": {},
   "outputs": [],
   "source": []
  },
  {
   "cell_type": "code",
   "execution_count": null,
   "id": "a629e00c-6e7c-4bd1-8ff8-a3f62fd589bd",
   "metadata": {},
   "outputs": [],
   "source": []
  }
 ],
 "metadata": {
  "kernelspec": {
   "display_name": "Python 3 (ipykernel)",
   "language": "python",
   "name": "python3"
  },
  "language_info": {
   "codemirror_mode": {
    "name": "ipython",
    "version": 3
   },
   "file_extension": ".py",
   "mimetype": "text/x-python",
   "name": "python",
   "nbconvert_exporter": "python",
   "pygments_lexer": "ipython3",
   "version": "3.11.7"
  },
  "widgets": {
   "application/vnd.jupyter.widget-state+json": {
    "state": {},
    "version_major": 2,
    "version_minor": 0
   }
  }
 },
 "nbformat": 4,
 "nbformat_minor": 5
}
